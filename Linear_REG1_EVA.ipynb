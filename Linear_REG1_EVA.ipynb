{
 "cells": [
  {
   "cell_type": "markdown",
   "metadata": {
    "id": "ulHM0BmVpSFN"
   },
   "source": [
    "#naive_bayes Classifier Example "
   ]
  },
  {
   "cell_type": "code",
   "execution_count": null,
   "metadata": {
    "id": "Jy53_I68pSFR",
    "outputId": "f8786df8-bae3-46d5-be8d-fa891e457656"
   },
   "outputs": [
    {
     "data": {
      "text/html": [
       "<div>\n",
       "<style scoped>\n",
       "    .dataframe tbody tr th:only-of-type {\n",
       "        vertical-align: middle;\n",
       "    }\n",
       "\n",
       "    .dataframe tbody tr th {\n",
       "        vertical-align: top;\n",
       "    }\n",
       "\n",
       "    .dataframe thead th {\n",
       "        text-align: right;\n",
       "    }\n",
       "</style>\n",
       "<table border=\"1\" class=\"dataframe\">\n",
       "  <thead>\n",
       "    <tr style=\"text-align: right;\">\n",
       "      <th></th>\n",
       "      <th>sepal_length</th>\n",
       "      <th>sepal_width</th>\n",
       "      <th>petal_length</th>\n",
       "      <th>petal_width</th>\n",
       "      <th>species</th>\n",
       "    </tr>\n",
       "  </thead>\n",
       "  <tbody>\n",
       "    <tr>\n",
       "      <th>0</th>\n",
       "      <td>5.1</td>\n",
       "      <td>3.5</td>\n",
       "      <td>1.4</td>\n",
       "      <td>0.2</td>\n",
       "      <td>setosa</td>\n",
       "    </tr>\n",
       "    <tr>\n",
       "      <th>1</th>\n",
       "      <td>4.9</td>\n",
       "      <td>3.0</td>\n",
       "      <td>1.4</td>\n",
       "      <td>0.2</td>\n",
       "      <td>setosa</td>\n",
       "    </tr>\n",
       "    <tr>\n",
       "      <th>2</th>\n",
       "      <td>4.7</td>\n",
       "      <td>3.2</td>\n",
       "      <td>1.3</td>\n",
       "      <td>0.2</td>\n",
       "      <td>setosa</td>\n",
       "    </tr>\n",
       "    <tr>\n",
       "      <th>3</th>\n",
       "      <td>4.6</td>\n",
       "      <td>3.1</td>\n",
       "      <td>1.5</td>\n",
       "      <td>0.2</td>\n",
       "      <td>setosa</td>\n",
       "    </tr>\n",
       "    <tr>\n",
       "      <th>4</th>\n",
       "      <td>5.0</td>\n",
       "      <td>3.6</td>\n",
       "      <td>1.4</td>\n",
       "      <td>0.2</td>\n",
       "      <td>setosa</td>\n",
       "    </tr>\n",
       "  </tbody>\n",
       "</table>\n",
       "</div>"
      ],
      "text/plain": [
       "   sepal_length  sepal_width  petal_length  petal_width species\n",
       "0           5.1          3.5           1.4          0.2  setosa\n",
       "1           4.9          3.0           1.4          0.2  setosa\n",
       "2           4.7          3.2           1.3          0.2  setosa\n",
       "3           4.6          3.1           1.5          0.2  setosa\n",
       "4           5.0          3.6           1.4          0.2  setosa"
      ]
     },
     "execution_count": 1,
     "metadata": {},
     "output_type": "execute_result"
    }
   ],
   "source": [
    "import seaborn as sns\n",
    "iris = sns.load_dataset('iris')\n",
    "iris.head()"
   ]
  },
  {
   "cell_type": "code",
   "execution_count": null,
   "metadata": {
    "id": "g-y_komgpSFT",
    "outputId": "bb9077b2-aaf0-4eea-9cdb-3f24e3fefc79"
   },
   "outputs": [
    {
     "data": {
      "text/plain": [
       "(150, 4)"
      ]
     },
     "execution_count": 2,
     "metadata": {},
     "output_type": "execute_result"
    }
   ],
   "source": [
    "X_iris = iris.drop('species', axis=1)\n",
    "X_iris.shape"
   ]
  },
  {
   "cell_type": "code",
   "execution_count": null,
   "metadata": {
    "id": "q4dWyea_pSFU",
    "outputId": "3ca849a5-1cf5-4676-f257-788a5c9301dd"
   },
   "outputs": [
    {
     "data": {
      "text/plain": [
       "(150,)"
      ]
     },
     "execution_count": 3,
     "metadata": {},
     "output_type": "execute_result"
    }
   ],
   "source": [
    "y_iris = iris['species']\n",
    "y_iris.shape"
   ]
  },
  {
   "cell_type": "code",
   "execution_count": null,
   "metadata": {
    "id": "dl3rGjOlpSFU",
    "outputId": "20226a53-1e2a-4f14-939d-d2c3fd089505"
   },
   "outputs": [
    {
     "data": {
      "text/html": [
       "<div>\n",
       "<style scoped>\n",
       "    .dataframe tbody tr th:only-of-type {\n",
       "        vertical-align: middle;\n",
       "    }\n",
       "\n",
       "    .dataframe tbody tr th {\n",
       "        vertical-align: top;\n",
       "    }\n",
       "\n",
       "    .dataframe thead th {\n",
       "        text-align: right;\n",
       "    }\n",
       "</style>\n",
       "<table border=\"1\" class=\"dataframe\">\n",
       "  <thead>\n",
       "    <tr style=\"text-align: right;\">\n",
       "      <th></th>\n",
       "      <th>sepal_length</th>\n",
       "      <th>sepal_width</th>\n",
       "      <th>petal_length</th>\n",
       "      <th>petal_width</th>\n",
       "      <th>species</th>\n",
       "    </tr>\n",
       "  </thead>\n",
       "  <tbody>\n",
       "    <tr>\n",
       "      <th>0</th>\n",
       "      <td>5.1</td>\n",
       "      <td>3.5</td>\n",
       "      <td>1.4</td>\n",
       "      <td>0.2</td>\n",
       "      <td>setosa</td>\n",
       "    </tr>\n",
       "    <tr>\n",
       "      <th>1</th>\n",
       "      <td>4.9</td>\n",
       "      <td>3.0</td>\n",
       "      <td>1.4</td>\n",
       "      <td>0.2</td>\n",
       "      <td>setosa</td>\n",
       "    </tr>\n",
       "    <tr>\n",
       "      <th>2</th>\n",
       "      <td>4.7</td>\n",
       "      <td>3.2</td>\n",
       "      <td>1.3</td>\n",
       "      <td>0.2</td>\n",
       "      <td>setosa</td>\n",
       "    </tr>\n",
       "    <tr>\n",
       "      <th>3</th>\n",
       "      <td>4.6</td>\n",
       "      <td>3.1</td>\n",
       "      <td>1.5</td>\n",
       "      <td>0.2</td>\n",
       "      <td>setosa</td>\n",
       "    </tr>\n",
       "    <tr>\n",
       "      <th>4</th>\n",
       "      <td>5.0</td>\n",
       "      <td>3.6</td>\n",
       "      <td>1.4</td>\n",
       "      <td>0.2</td>\n",
       "      <td>setosa</td>\n",
       "    </tr>\n",
       "    <tr>\n",
       "      <th>...</th>\n",
       "      <td>...</td>\n",
       "      <td>...</td>\n",
       "      <td>...</td>\n",
       "      <td>...</td>\n",
       "      <td>...</td>\n",
       "    </tr>\n",
       "    <tr>\n",
       "      <th>145</th>\n",
       "      <td>6.7</td>\n",
       "      <td>3.0</td>\n",
       "      <td>5.2</td>\n",
       "      <td>2.3</td>\n",
       "      <td>virginica</td>\n",
       "    </tr>\n",
       "    <tr>\n",
       "      <th>146</th>\n",
       "      <td>6.3</td>\n",
       "      <td>2.5</td>\n",
       "      <td>5.0</td>\n",
       "      <td>1.9</td>\n",
       "      <td>virginica</td>\n",
       "    </tr>\n",
       "    <tr>\n",
       "      <th>147</th>\n",
       "      <td>6.5</td>\n",
       "      <td>3.0</td>\n",
       "      <td>5.2</td>\n",
       "      <td>2.0</td>\n",
       "      <td>virginica</td>\n",
       "    </tr>\n",
       "    <tr>\n",
       "      <th>148</th>\n",
       "      <td>6.2</td>\n",
       "      <td>3.4</td>\n",
       "      <td>5.4</td>\n",
       "      <td>2.3</td>\n",
       "      <td>virginica</td>\n",
       "    </tr>\n",
       "    <tr>\n",
       "      <th>149</th>\n",
       "      <td>5.9</td>\n",
       "      <td>3.0</td>\n",
       "      <td>5.1</td>\n",
       "      <td>1.8</td>\n",
       "      <td>virginica</td>\n",
       "    </tr>\n",
       "  </tbody>\n",
       "</table>\n",
       "<p>150 rows × 5 columns</p>\n",
       "</div>"
      ],
      "text/plain": [
       "     sepal_length  sepal_width  petal_length  petal_width    species\n",
       "0             5.1          3.5           1.4          0.2     setosa\n",
       "1             4.9          3.0           1.4          0.2     setosa\n",
       "2             4.7          3.2           1.3          0.2     setosa\n",
       "3             4.6          3.1           1.5          0.2     setosa\n",
       "4             5.0          3.6           1.4          0.2     setosa\n",
       "..            ...          ...           ...          ...        ...\n",
       "145           6.7          3.0           5.2          2.3  virginica\n",
       "146           6.3          2.5           5.0          1.9  virginica\n",
       "147           6.5          3.0           5.2          2.0  virginica\n",
       "148           6.2          3.4           5.4          2.3  virginica\n",
       "149           5.9          3.0           5.1          1.8  virginica\n",
       "\n",
       "[150 rows x 5 columns]"
      ]
     },
     "execution_count": 4,
     "metadata": {},
     "output_type": "execute_result"
    }
   ],
   "source": [
    "iris"
   ]
  },
  {
   "cell_type": "code",
   "execution_count": null,
   "metadata": {
    "id": "C65_3vq8pSFV"
   },
   "outputs": [],
   "source": [
    "from sklearn.model_selection import train_test_split\n",
    "Xtrain, Xtest, ytrain, ytest = train_test_split(X_iris, y_iris,\n",
    "                                                random_state=1)"
   ]
  },
  {
   "cell_type": "code",
   "execution_count": null,
   "metadata": {
    "id": "dTtzeWJdpSFV"
   },
   "outputs": [],
   "source": [
    "from sklearn.naive_bayes import GaussianNB # 1. choose model class\n",
    "model = GaussianNB()                       # 2. instantiate model\n",
    "model.fit(Xtrain, ytrain)                  # 3. fit model to data\n",
    "y_model = model.predict(Xtest)             # 4. predict on new data"
   ]
  },
  {
   "cell_type": "code",
   "execution_count": null,
   "metadata": {
    "id": "HPl6uW8ppSFV",
    "outputId": "2acb4b84-7c45-4ce7-d582-5b6fe9ca9964"
   },
   "outputs": [
    {
     "data": {
      "text/plain": [
       "0.9736842105263158"
      ]
     },
     "execution_count": 9,
     "metadata": {},
     "output_type": "execute_result"
    }
   ],
   "source": [
    "from sklearn.metrics import accuracy_score\n",
    "accuracy_score(ytest, y_model)"
   ]
  },
  {
   "cell_type": "markdown",
   "metadata": {
    "id": "b_ONRlgbpSFW"
   },
   "source": [
    "# Linear Regression\n",
    "RandomState exposes a number of methods for generating random numbers drawn from a variety of probability distributions."
   ]
  },
  {
   "cell_type": "code",
   "execution_count": null,
   "metadata": {
    "id": "QDLuWq_wpSFW",
    "outputId": "da37f3dc-0f49-4bdb-8af4-9d2907941372"
   },
   "outputs": [
    {
     "data": {
      "image/png": "[encoded data removed]",
      "text/plain": [
       "<Figure size 432x288 with 1 Axes>"
      ]
     },
     "metadata": {
      "needs_background": "light"
     },
     "output_type": "display_data"
    }
   ],
   "source": [
    "import matplotlib.pyplot as plt\n",
    "import numpy as np\n",
    "\n",
    "rng = np.random.RandomState(42)\n",
    "x = 10 * rng.rand(50)\n",
    "y = 2 * x - 1 + rng.randn(50)\n",
    "plt.scatter(x, y);"
   ]
  },
  {
   "cell_type": "code",
   "execution_count": null,
   "metadata": {
    "id": "xd03OU60pSFX",
    "outputId": "a423bf70-7602-4c37-b921-20a891039209"
   },
   "outputs": [
    {
     "name": "stdout",
     "output_type": "stream",
     "text": [
      "[3.74540119 9.50714306 7.31993942 5.98658484 1.5601864  1.5599452\n",
      " 0.58083612 8.66176146 6.01115012 7.08072578 0.20584494 9.69909852\n",
      " 8.32442641 2.12339111 1.81824967 1.8340451  3.04242243 5.24756432\n",
      " 4.31945019 2.9122914  6.11852895 1.39493861 2.92144649 3.66361843\n",
      " 4.56069984 7.85175961 1.99673782 5.14234438 5.92414569 0.46450413\n",
      " 6.07544852 1.70524124 0.65051593 9.48885537 9.65632033 8.08397348\n",
      " 3.04613769 0.97672114 6.84233027 4.40152494 1.22038235 4.9517691\n",
      " 0.34388521 9.09320402 2.58779982 6.62522284 3.11711076 5.20068021\n",
      " 5.46710279 1.84854456]\n"
     ]
    }
   ],
   "source": [
    "print(x)"
   ]
  },
  {
   "cell_type": "code",
   "execution_count": null,
   "metadata": {
    "id": "0GgveIiUpSFX",
    "outputId": "d3c8d67c-e56d-41d7-8861-ef0834aa2f7f"
   },
   "outputs": [
    {
     "name": "stdout",
     "output_type": "stream",
     "text": [
      "[ 7.22926896 18.18565441 13.52423055 10.67206599  0.64185082  1.4000462\n",
      " -0.29896653 17.38064514 11.36591852 11.3984114  -0.26422614 18.01311476\n",
      " 14.97193082  3.8584585   3.66749887  3.59937032  4.24562734  9.18591626\n",
      "  7.9701638   5.80012793 10.75788366  1.60421824  3.736558    5.13103024\n",
      "  8.93392551 16.05975926  2.92146552 10.28822167 11.2099274  -0.7161115\n",
      " 11.51229264  3.94851904  0.26520582 19.5423544  15.69289556 15.98984947\n",
      "  5.17932245  0.65443493 12.77642131  5.81548096  1.22109281  9.26065077\n",
      "  1.16566447 16.66813782  3.36710603 11.74868864  6.14962364  9.73011153\n",
      "  9.40444538  3.21035654]\n"
     ]
    }
   ],
   "source": [
    "print(y)"
   ]
  },
  {
   "cell_type": "code",
   "execution_count": null,
   "metadata": {
    "id": "13MAS5RIpSFX"
   },
   "outputs": [],
   "source": [
    "from sklearn.linear_model import LinearRegression"
   ]
  },
  {
   "cell_type": "code",
   "execution_count": null,
   "metadata": {
    "id": "ezUwve79pSFY"
   },
   "outputs": [],
   "source": [
    "model = LinearRegression(fit_intercept=True)"
   ]
  },
  {
   "cell_type": "code",
   "execution_count": null,
   "metadata": {
    "id": "eMk2wdXgpSFY",
    "outputId": "5fb03ac3-e66a-464c-ba7c-176795e4da0d"
   },
   "outputs": [
    {
     "data": {
      "text/plain": [
       "(50, 1)"
      ]
     },
     "execution_count": 15,
     "metadata": {},
     "output_type": "execute_result"
    }
   ],
   "source": [
    "X = x[:, np.newaxis]\n",
    "X.shape"
   ]
  },
  {
   "cell_type": "code",
   "execution_count": null,
   "metadata": {
    "id": "bi8Xe7h0pSFY",
    "outputId": "6377aacf-c73f-4356-faf5-db3d4222e0b8"
   },
   "outputs": [
    {
     "name": "stdout",
     "output_type": "stream",
     "text": [
      "[[ 8. ]\n",
      " [14. ]\n",
      " [13.7]\n",
      " [13.3]\n",
      " [ 7.6]\n",
      " [ 6.2]\n",
      " [ 6.1]\n",
      " [ 8.3]\n",
      " [ 8.8]\n",
      " [ 8.4]\n",
      " [ 9.1]\n",
      " [ 8.5]\n",
      " [10.1]\n",
      " [12.1]\n",
      " [10.1]\n",
      " [12.4]\n",
      " [13.8]\n",
      " [11.7]\n",
      " [12.4]\n",
      " [15.6]\n",
      " [15.3]\n",
      " [16.4]\n",
      " [12.8]\n",
      " [12. ]\n",
      " [15.4]\n",
      " [15.6]\n",
      " [13.3]\n",
      " [12.9]\n",
      " [15.1]\n",
      " [13.6]\n",
      " [15.1]\n",
      " [11.6]\n",
      " [16.6]\n",
      " [13.3]\n",
      " [14.5]\n",
      " [16.3]\n",
      " [17.2]\n",
      " [16.5]\n",
      " [15. ]\n",
      " [14.9]\n",
      " [11.8]\n",
      " [11.7]\n",
      " [ 9.6]\n",
      " [ 8.9]\n",
      " [10.1]\n",
      " [15.5]\n",
      " [10.8]\n",
      " [ 7.5]\n",
      " [12.8]\n",
      " [12.6]\n",
      " [14.8]\n",
      " [19.9]\n",
      " [ 9.2]\n",
      " [12.4]\n",
      " [11.3]\n",
      " [ 9.8]\n",
      " [14.3]\n",
      " [15.1]\n",
      " [14.4]\n",
      " [15.4]\n",
      " [13.8]\n",
      " [13.6]\n",
      " [14.3]\n",
      " [15.9]\n",
      " [16.7]\n",
      " [12.1]\n",
      " [14.3]\n",
      " [16.5]\n",
      " [16.5]\n",
      " [17.5]\n",
      " [14.7]\n",
      " [17.5]\n",
      " [20.9]\n",
      " [17. ]\n",
      " [16. ]\n",
      " [15.4]\n",
      " [17.9]\n",
      " [15.2]\n",
      " [15.1]\n",
      " [15.3]\n",
      " [17.2]\n",
      " [15.9]\n",
      " [10. ]\n",
      " [ 9.9]\n",
      " [10.3]\n",
      " [15.4]\n",
      " [12.7]\n",
      " [13.2]\n",
      " [15.3]\n",
      " [17.9]\n",
      " [18. ]\n",
      " [17.6]\n",
      " [16. ]\n",
      " [14.9]\n",
      " [17.1]\n",
      " [18.2]\n",
      " [16.8]\n",
      " [13.6]\n",
      " [14.5]\n",
      " [12.4]\n",
      " [10.4]\n",
      " [ 9.1]\n",
      " [ 8.9]\n",
      " [14.5]\n",
      " [12.6]\n",
      " [ 8.6]\n",
      " [10.8]\n",
      " [11.2]\n",
      " [12.1]\n",
      " [10.8]\n",
      " [11.4]\n",
      " [12. ]\n",
      " [16.3]\n",
      " [12.7]\n",
      " [12.7]\n",
      " [12. ]\n",
      " [11.5]\n",
      " [13. ]\n",
      " [11.7]\n",
      " [14.8]\n",
      " [ 7.7]\n",
      " [ 4.4]\n",
      " [ 7.4]\n",
      " [ 8.3]\n",
      " [10.1]\n",
      " [12. ]\n",
      " [12.9]\n",
      " [10.8]\n",
      " [ 9.5]\n",
      " [12.1]\n",
      " [12.5]\n",
      " [13.9]\n",
      " [13.3]\n",
      " [13.2]\n",
      " [12.3]\n",
      " [13.8]\n",
      " [11.3]\n",
      " [11.7]\n",
      " [12.5]\n",
      " [15.1]\n",
      " [11.5]\n",
      " [13. ]\n",
      " [11.6]\n",
      " [12.8]\n",
      " [15.5]\n",
      " [13.1]\n",
      " [12.6]\n",
      " [ 4.4]\n",
      " [ 4.4]\n",
      " [ 7.1]\n",
      " [ 4.2]\n",
      " [ 9.6]\n",
      " [ 3.5]\n",
      " [ 5.3]\n",
      " [ 7. ]\n",
      " [ 0.4]\n",
      " [ 3.2]\n",
      " [ 5.9]\n",
      " [ 8.1]\n",
      " [ 6.9]\n",
      " [ 5.6]\n",
      " [ 7.2]\n",
      " [ 7.1]\n",
      " [ 6.1]\n",
      " [ 7.1]\n",
      " [ 5.6]\n",
      " [ 5.4]\n",
      " [ 6.3]\n",
      " [ 5.3]\n",
      " [ 7.9]\n",
      " [ 8.4]\n",
      " [ 8.1]\n",
      " [ 2.4]\n",
      " [ 5.6]\n",
      " [ 7.5]\n",
      " [ 2.5]\n",
      " [ 5. ]\n",
      " [ 3.8]\n",
      " [ 7.9]\n",
      " [ 4.3]\n",
      " [-2.1]\n",
      " [-1.8]\n",
      " [ 3.8]\n",
      " [ 2.1]\n",
      " [ 0.5]\n",
      " [-0.9]\n",
      " [ 0.4]\n",
      " [ 7.5]\n",
      " [ 8.3]\n",
      " [-0.2]\n",
      " [ 0.1]\n",
      " [ 1.5]\n",
      " [ 8.3]\n",
      " [ 9.4]\n",
      " [ 1.3]\n",
      " [ 2.2]\n",
      " [-0.4]\n",
      " [ 4.5]\n",
      " [ 7.9]\n",
      " [ 4.3]\n",
      " [-2.7]\n",
      " [ 0.3]\n",
      " [ 3.8]\n",
      " [ 2.4]\n",
      " [ 1.2]\n",
      " [ 1.2]\n",
      " [-0.3]\n",
      " [ 4.7]\n",
      " [ 4.9]\n",
      " [ 1.4]\n",
      " [ 2.2]\n",
      " [-0.1]\n",
      " [-0.9]\n",
      " [ 0.6]\n",
      " [ 4.6]\n",
      " [ 9.8]\n",
      " [10.6]\n",
      " [ 7.8]\n",
      " [ 4.4]\n",
      " [-0.2]\n",
      " [ 4.3]\n",
      " [ 7.4]\n",
      " [ 8.6]\n",
      " [10.2]\n",
      " [ 7.3]\n",
      " [ 8.7]\n",
      " [ 1. ]\n",
      " [ 2.1]\n",
      " [ 6.4]\n",
      " [ 5.4]\n",
      " [ 0.4]\n",
      " [ 4. ]\n",
      " [ 8.4]\n",
      " [ 0.4]\n",
      " [ 4.2]\n",
      " [ 0.9]\n",
      " [ 0.8]\n",
      " [ 4.3]\n",
      " [ 6.3]\n",
      " [ 3.5]\n",
      " [-1.5]\n",
      " [ 1.2]\n",
      " [ 0.5]\n",
      " [ 5.3]\n",
      " [ 6.6]\n",
      " [-1.6]\n",
      " [-3.1]\n",
      " [-0.1]\n",
      " [-0.6]\n",
      " [ 3. ]\n",
      " [ 2.9]\n",
      " [-1.3]\n",
      " [ 1.8]\n",
      " [ 2.9]\n",
      " [-2.6]\n",
      " [ 0.5]\n",
      " [ 2.7]\n",
      " [-1.7]\n",
      " [-0.9]\n",
      " [-1.8]\n",
      " [ 1.3]\n",
      " [ 2.4]\n",
      " [-1.1]\n",
      " [ 2.3]\n",
      " [-2.2]\n",
      " [-3.5]\n",
      " [-1. ]\n",
      " [-2.1]\n",
      " [-2. ]\n",
      " [-2.3]\n",
      " [-1.6]\n",
      " [ 0.8]\n",
      " [-2.8]\n",
      " [-2.8]\n",
      " [ 3. ]\n",
      " [ 4.4]\n",
      " [ 2.3]\n",
      " [-2. ]\n",
      " [-1.9]\n",
      " [ 4.8]\n",
      " [-0.6]\n",
      " [ 3.1]\n",
      " [-2.9]\n",
      " [-3.5]\n",
      " [-0.3]\n",
      " [ 0.1]\n",
      " [ 2.3]\n",
      " [ 2.1]\n",
      " [ 4.6]\n",
      " [ 3.7]\n",
      " [-1.3]\n",
      " [-3.4]\n",
      " [-5.3]\n",
      " [ 0. ]\n",
      " [ 2.4]\n",
      " [-0.6]\n",
      " [ 2.3]\n",
      " [-3.7]\n",
      " [-0.9]\n",
      " [-1.5]\n",
      " [-3.3]\n",
      " [-0.1]\n",
      " [-0.2]\n",
      " [ 0.5]\n",
      " [ 6.1]\n",
      " [ 4.1]\n",
      " [ 0.1]\n",
      " [ 3.2]\n",
      " [ 5.4]\n",
      " [ 5.8]\n",
      " [ 6.3]\n",
      " [-0.9]\n",
      " [ 0.2]\n",
      " [-3.7]\n",
      " [-2.7]\n",
      " [-2.5]\n",
      " [-0.5]\n",
      " [ 9. ]\n",
      " [13.1]\n",
      " [ 8.7]\n",
      " [ 3.9]\n",
      " [ 0.7]\n",
      " [ 1.1]\n",
      " [ 5.1]\n",
      " [ 7.5]\n",
      " [ 4.7]\n",
      " [ 3.2]\n",
      " [ 7.8]\n",
      " [ 2.4]\n",
      " [ 3.2]\n",
      " [ 2.5]\n",
      " [ 6.5]\n",
      " [14.4]\n",
      " [ 4.9]\n",
      " [ 2.3]\n",
      " [ 1.4]\n",
      " [ 5.6]\n",
      " [16.8]\n",
      " [14.4]\n",
      " [10.3]\n",
      " [11.2]\n",
      " [ 0.3]\n",
      " [ 0.5]\n",
      " [ 0.5]\n",
      " [ 4.6]\n",
      " [ 8.2]\n",
      " [ 4.5]\n",
      " [ 6.7]\n",
      " [11.9]\n",
      " [ 9.2]\n",
      " [ 4.4]\n",
      " [ 5. ]\n",
      " [ 6.7]\n",
      " [ 8.3]\n",
      " [11.3]\n",
      " [ 9. ]\n",
      " [ 3.4]\n",
      " [ 3.2]\n",
      " [ 0.9]\n",
      " [ 3.3]\n",
      " [ 7.9]\n",
      " [ 9. ]\n",
      " [ 7.1]\n",
      " [12.5]\n",
      " [12.5]\n",
      " [12.3]]\n"
     ]
    }
   ],
   "source": [
    "print(X)"
   ]
  },
  {
   "cell_type": "code",
   "execution_count": null,
   "metadata": {
    "id": "KVcZZObhpSFY",
    "outputId": "f6581265-0ca8-4dda-8d66-9ccf1d2cc15d"
   },
   "outputs": [
    {
     "data": {
      "text/plain": [
       "LinearRegression(copy_X=True, fit_intercept=True, n_jobs=None, normalize=False)"
      ]
     },
     "execution_count": 16,
     "metadata": {},
     "output_type": "execute_result"
    }
   ],
   "source": [
    "model.fit(X, y)"
   ]
  },
  {
   "cell_type": "code",
   "execution_count": null,
   "metadata": {
    "id": "XOISrnxzpSFZ",
    "outputId": "cc5844b1-c0f9-4e31-ef8b-8fcd623f1af5"
   },
   "outputs": [
    {
     "data": {
      "text/plain": [
       "array([1.9776566])"
      ]
     },
     "execution_count": 17,
     "metadata": {},
     "output_type": "execute_result"
    }
   ],
   "source": [
    "model.coef_"
   ]
  },
  {
   "cell_type": "code",
   "execution_count": null,
   "metadata": {
    "id": "bBNoR9efpSFZ",
    "outputId": "f4d51b62-403b-4f42-cb96-15b0ad89a112"
   },
   "outputs": [
    {
     "data": {
      "text/plain": [
       "-0.9033107255311164"
      ]
     },
     "execution_count": 18,
     "metadata": {},
     "output_type": "execute_result"
    }
   ],
   "source": [
    "model.intercept_"
   ]
  },
  {
   "cell_type": "code",
   "execution_count": null,
   "metadata": {
    "id": "qvmlsW8gpSFZ",
    "outputId": "6712900c-ea9e-4fb9-aa30-4bb60cdd0cc4"
   },
   "outputs": [
    {
     "data": {
      "text/plain": [
       "'C:\\\\Users\\\\achal'"
      ]
     },
     "execution_count": 1,
     "metadata": {},
     "output_type": "execute_result"
    }
   ],
   "source": [
    "pwd"
   ]
  },
  {
   "cell_type": "markdown",
   "metadata": {
    "id": "qjR3laf7pSFa"
   },
   "source": [
    "#example with different DataSet"
   ]
  },
  {
   "cell_type": "code",
   "execution_count": null,
   "metadata": {
    "id": "bTvmqqyWpSFa"
   },
   "outputs": [],
   "source": [
    "import pandas as pd  \n",
    "import numpy as np  \n",
    "import matplotlib.pyplot as plt  \n",
    "import seaborn as seabornInstance \n",
    "from sklearn.model_selection import train_test_split \n",
    "from sklearn.linear_model import LinearRegression\n",
    "from sklearn import metrics\n",
    "%matplotlib inline"
   ]
  },
  {
   "cell_type": "code",
   "execution_count": null,
   "metadata": {
    "id": "UBV6E5pWpSFa"
   },
   "outputs": [],
   "source": [
    "dataset = pd.read_csv('weather.csv')"
   ]
  },
  {
   "cell_type": "code",
   "execution_count": null,
   "metadata": {
    "id": "I6Erem29pSFa",
    "outputId": "7e1f9dda-1808-41db-9385-caa4f56cec7a"
   },
   "outputs": [
    {
     "data": {
      "text/plain": [
       "(366, 22)"
      ]
     },
     "execution_count": 4,
     "metadata": {},
     "output_type": "execute_result"
    }
   ],
   "source": [
    "dataset.shape\n"
   ]
  },
  {
   "cell_type": "code",
   "execution_count": null,
   "metadata": {
    "id": "sf20dGOhpSFb",
    "outputId": "91740fe5-4556-4017-cf6e-84eaf88c597c"
   },
   "outputs": [
    {
     "name": "stdout",
     "output_type": "stream",
     "text": [
      "<class 'pandas.core.frame.DataFrame'>\n",
      "RangeIndex: 366 entries, 0 to 365\n",
      "Data columns (total 22 columns):\n",
      " #   Column         Non-Null Count  Dtype  \n",
      "---  ------         --------------  -----  \n",
      " 0   MinTemp        366 non-null    float64\n",
      " 1   MaxTemp        366 non-null    float64\n",
      " 2   Rainfall       366 non-null    float64\n",
      " 3   Evaporation    366 non-null    float64\n",
      " 4   Sunshine       363 non-null    float64\n",
      " 5   WindGustDir    363 non-null    object \n",
      " 6   WindGustSpeed  364 non-null    float64\n",
      " 7   WindDir9am     335 non-null    object \n",
      " 8   WindDir3pm     365 non-null    object \n",
      " 9   WindSpeed9am   359 non-null    float64\n",
      " 10  WindSpeed3pm   366 non-null    int64  \n",
      " 11  Humidity9am    366 non-null    int64  \n",
      " 12  Humidity3pm    366 non-null    int64  \n",
      " 13  Pressure9am    366 non-null    float64\n",
      " 14  Pressure3pm    366 non-null    float64\n",
      " 15  Cloud9am       366 non-null    int64  \n",
      " 16  Cloud3pm       366 non-null    int64  \n",
      " 17  Temp9am        366 non-null    float64\n",
      " 18  Temp3pm        366 non-null    float64\n",
      " 19  RainToday      366 non-null    object \n",
      " 20  RISK_MM        366 non-null    float64\n",
      " 21  RainTomorrow   366 non-null    object \n",
      "dtypes: float64(12), int64(5), object(5)\n",
      "memory usage: 63.0+ KB\n"
     ]
    }
   ],
   "source": [
    "dataset.info()"
   ]
  },
  {
   "cell_type": "code",
   "execution_count": null,
   "metadata": {
    "id": "z3YHklHJpSFb",
    "outputId": "45f0ac1e-a2ab-4723-ce15-6be148e760a5"
   },
   "outputs": [
    {
     "data": {
      "text/html": [
       "<div>\n",
       "<style scoped>\n",
       "    .dataframe tbody tr th:only-of-type {\n",
       "        vertical-align: middle;\n",
       "    }\n",
       "\n",
       "    .dataframe tbody tr th {\n",
       "        vertical-align: top;\n",
       "    }\n",
       "\n",
       "    .dataframe thead th {\n",
       "        text-align: right;\n",
       "    }\n",
       "</style>\n",
       "<table border=\"1\" class=\"dataframe\">\n",
       "  <thead>\n",
       "    <tr style=\"text-align: right;\">\n",
       "      <th></th>\n",
       "      <th>MinTemp</th>\n",
       "      <th>MaxTemp</th>\n",
       "      <th>Rainfall</th>\n",
       "      <th>Evaporation</th>\n",
       "      <th>Sunshine</th>\n",
       "      <th>WindGustSpeed</th>\n",
       "      <th>WindSpeed9am</th>\n",
       "      <th>WindSpeed3pm</th>\n",
       "      <th>Humidity9am</th>\n",
       "      <th>Humidity3pm</th>\n",
       "      <th>Pressure9am</th>\n",
       "      <th>Pressure3pm</th>\n",
       "      <th>Cloud9am</th>\n",
       "      <th>Cloud3pm</th>\n",
       "      <th>Temp9am</th>\n",
       "      <th>Temp3pm</th>\n",
       "      <th>RISK_MM</th>\n",
       "    </tr>\n",
       "  </thead>\n",
       "  <tbody>\n",
       "    <tr>\n",
       "      <th>count</th>\n",
       "      <td>366.000000</td>\n",
       "      <td>366.000000</td>\n",
       "      <td>366.000000</td>\n",
       "      <td>366.000000</td>\n",
       "      <td>363.000000</td>\n",
       "      <td>364.000000</td>\n",
       "      <td>359.000000</td>\n",
       "      <td>366.000000</td>\n",
       "      <td>366.000000</td>\n",
       "      <td>366.000000</td>\n",
       "      <td>366.000000</td>\n",
       "      <td>366.000000</td>\n",
       "      <td>366.000000</td>\n",
       "      <td>366.000000</td>\n",
       "      <td>366.000000</td>\n",
       "      <td>366.000000</td>\n",
       "      <td>366.000000</td>\n",
       "    </tr>\n",
       "    <tr>\n",
       "      <th>mean</th>\n",
       "      <td>7.265574</td>\n",
       "      <td>20.550273</td>\n",
       "      <td>1.428415</td>\n",
       "      <td>4.521858</td>\n",
       "      <td>7.909366</td>\n",
       "      <td>39.840659</td>\n",
       "      <td>9.651811</td>\n",
       "      <td>17.986339</td>\n",
       "      <td>72.035519</td>\n",
       "      <td>44.519126</td>\n",
       "      <td>1019.709016</td>\n",
       "      <td>1016.810383</td>\n",
       "      <td>3.890710</td>\n",
       "      <td>4.024590</td>\n",
       "      <td>12.358470</td>\n",
       "      <td>19.230874</td>\n",
       "      <td>1.428415</td>\n",
       "    </tr>\n",
       "    <tr>\n",
       "      <th>std</th>\n",
       "      <td>6.025800</td>\n",
       "      <td>6.690516</td>\n",
       "      <td>4.225800</td>\n",
       "      <td>2.669383</td>\n",
       "      <td>3.481517</td>\n",
       "      <td>13.059807</td>\n",
       "      <td>7.951929</td>\n",
       "      <td>8.856997</td>\n",
       "      <td>13.137058</td>\n",
       "      <td>16.850947</td>\n",
       "      <td>6.686212</td>\n",
       "      <td>6.469422</td>\n",
       "      <td>2.956131</td>\n",
       "      <td>2.666268</td>\n",
       "      <td>5.630832</td>\n",
       "      <td>6.640346</td>\n",
       "      <td>4.225800</td>\n",
       "    </tr>\n",
       "    <tr>\n",
       "      <th>min</th>\n",
       "      <td>-5.300000</td>\n",
       "      <td>7.600000</td>\n",
       "      <td>0.000000</td>\n",
       "      <td>0.200000</td>\n",
       "      <td>0.000000</td>\n",
       "      <td>13.000000</td>\n",
       "      <td>0.000000</td>\n",
       "      <td>0.000000</td>\n",
       "      <td>36.000000</td>\n",
       "      <td>13.000000</td>\n",
       "      <td>996.500000</td>\n",
       "      <td>996.800000</td>\n",
       "      <td>0.000000</td>\n",
       "      <td>0.000000</td>\n",
       "      <td>0.100000</td>\n",
       "      <td>5.100000</td>\n",
       "      <td>0.000000</td>\n",
       "    </tr>\n",
       "    <tr>\n",
       "      <th>25%</th>\n",
       "      <td>2.300000</td>\n",
       "      <td>15.025000</td>\n",
       "      <td>0.000000</td>\n",
       "      <td>2.200000</td>\n",
       "      <td>5.950000</td>\n",
       "      <td>31.000000</td>\n",
       "      <td>6.000000</td>\n",
       "      <td>11.000000</td>\n",
       "      <td>64.000000</td>\n",
       "      <td>32.250000</td>\n",
       "      <td>1015.350000</td>\n",
       "      <td>1012.800000</td>\n",
       "      <td>1.000000</td>\n",
       "      <td>1.000000</td>\n",
       "      <td>7.625000</td>\n",
       "      <td>14.150000</td>\n",
       "      <td>0.000000</td>\n",
       "    </tr>\n",
       "    <tr>\n",
       "      <th>50%</th>\n",
       "      <td>7.450000</td>\n",
       "      <td>19.650000</td>\n",
       "      <td>0.000000</td>\n",
       "      <td>4.200000</td>\n",
       "      <td>8.600000</td>\n",
       "      <td>39.000000</td>\n",
       "      <td>7.000000</td>\n",
       "      <td>17.000000</td>\n",
       "      <td>72.000000</td>\n",
       "      <td>43.000000</td>\n",
       "      <td>1020.150000</td>\n",
       "      <td>1017.400000</td>\n",
       "      <td>3.500000</td>\n",
       "      <td>4.000000</td>\n",
       "      <td>12.550000</td>\n",
       "      <td>18.550000</td>\n",
       "      <td>0.000000</td>\n",
       "    </tr>\n",
       "    <tr>\n",
       "      <th>75%</th>\n",
       "      <td>12.500000</td>\n",
       "      <td>25.500000</td>\n",
       "      <td>0.200000</td>\n",
       "      <td>6.400000</td>\n",
       "      <td>10.500000</td>\n",
       "      <td>46.000000</td>\n",
       "      <td>13.000000</td>\n",
       "      <td>24.000000</td>\n",
       "      <td>81.000000</td>\n",
       "      <td>55.000000</td>\n",
       "      <td>1024.475000</td>\n",
       "      <td>1021.475000</td>\n",
       "      <td>7.000000</td>\n",
       "      <td>7.000000</td>\n",
       "      <td>17.000000</td>\n",
       "      <td>24.000000</td>\n",
       "      <td>0.200000</td>\n",
       "    </tr>\n",
       "    <tr>\n",
       "      <th>max</th>\n",
       "      <td>20.900000</td>\n",
       "      <td>35.800000</td>\n",
       "      <td>39.800000</td>\n",
       "      <td>13.800000</td>\n",
       "      <td>13.600000</td>\n",
       "      <td>98.000000</td>\n",
       "      <td>41.000000</td>\n",
       "      <td>52.000000</td>\n",
       "      <td>99.000000</td>\n",
       "      <td>96.000000</td>\n",
       "      <td>1035.700000</td>\n",
       "      <td>1033.200000</td>\n",
       "      <td>8.000000</td>\n",
       "      <td>8.000000</td>\n",
       "      <td>24.700000</td>\n",
       "      <td>34.500000</td>\n",
       "      <td>39.800000</td>\n",
       "    </tr>\n",
       "  </tbody>\n",
       "</table>\n",
       "</div>"
      ],
      "text/plain": [
       "          MinTemp     MaxTemp    Rainfall  Evaporation    Sunshine  \\\n",
       "count  366.000000  366.000000  366.000000   366.000000  363.000000   \n",
       "mean     7.265574   20.550273    1.428415     4.521858    7.909366   \n",
       "std      6.025800    6.690516    4.225800     2.669383    3.481517   \n",
       "min     -5.300000    7.600000    0.000000     0.200000    0.000000   \n",
       "25%      2.300000   15.025000    0.000000     2.200000    5.950000   \n",
       "50%      7.450000   19.650000    0.000000     4.200000    8.600000   \n",
       "75%     12.500000   25.500000    0.200000     6.400000   10.500000   \n",
       "max     20.900000   35.800000   39.800000    13.800000   13.600000   \n",
       "\n",
       "       WindGustSpeed  WindSpeed9am  WindSpeed3pm  Humidity9am  Humidity3pm  \\\n",
       "count     364.000000    359.000000    366.000000   366.000000   366.000000   \n",
       "mean       39.840659      9.651811     17.986339    72.035519    44.519126   \n",
       "std        13.059807      7.951929      8.856997    13.137058    16.850947   \n",
       "min        13.000000      0.000000      0.000000    36.000000    13.000000   \n",
       "25%        31.000000      6.000000     11.000000    64.000000    32.250000   \n",
       "50%        39.000000      7.000000     17.000000    72.000000    43.000000   \n",
       "75%        46.000000     13.000000     24.000000    81.000000    55.000000   \n",
       "max        98.000000     41.000000     52.000000    99.000000    96.000000   \n",
       "\n",
       "       Pressure9am  Pressure3pm    Cloud9am    Cloud3pm     Temp9am  \\\n",
       "count   366.000000   366.000000  366.000000  366.000000  366.000000   \n",
       "mean   1019.709016  1016.810383    3.890710    4.024590   12.358470   \n",
       "std       6.686212     6.469422    2.956131    2.666268    5.630832   \n",
       "min     996.500000   996.800000    0.000000    0.000000    0.100000   \n",
       "25%    1015.350000  1012.800000    1.000000    1.000000    7.625000   \n",
       "50%    1020.150000  1017.400000    3.500000    4.000000   12.550000   \n",
       "75%    1024.475000  1021.475000    7.000000    7.000000   17.000000   \n",
       "max    1035.700000  1033.200000    8.000000    8.000000   24.700000   \n",
       "\n",
       "          Temp3pm     RISK_MM  \n",
       "count  366.000000  366.000000  \n",
       "mean    19.230874    1.428415  \n",
       "std      6.640346    4.225800  \n",
       "min      5.100000    0.000000  \n",
       "25%     14.150000    0.000000  \n",
       "50%     18.550000    0.000000  \n",
       "75%     24.000000    0.200000  \n",
       "max     34.500000   39.800000  "
      ]
     },
     "execution_count": 5,
     "metadata": {},
     "output_type": "execute_result"
    }
   ],
   "source": [
    "dataset.describe()"
   ]
  },
  {
   "cell_type": "code",
   "execution_count": null,
   "metadata": {
    "id": "lh4QhhF-pSFb",
    "outputId": "93f7eca2-043a-4e71-841d-fa9324b5d7a9"
   },
   "outputs": [
    {
     "data": {
      "image/png": "[encoded data removed]",
      "text/plain": [
       "<Figure size 432x288 with 1 Axes>"
      ]
     },
     "metadata": {
      "needs_background": "light"
     },
     "output_type": "display_data"
    }
   ],
   "source": [
    "dataset.plot(x='MinTemp', y='MaxTemp', style='o')  \n",
    "plt.title('MinTemp vs MaxTemp')  \n",
    "plt.xlabel('MinTemp')  \n",
    "plt.ylabel('MaxTemp')  \n",
    "plt.show()"
   ]
  },
  {
   "cell_type": "code",
   "execution_count": null,
   "metadata": {
    "id": "RgoAvwKEpSFc",
    "outputId": "c1a70a6b-0e5a-4c85-8d40-95ecd1276e32"
   },
   "outputs": [
    {
     "data": {
      "text/plain": [
       "<matplotlib.axes._subplots.AxesSubplot at 0x1a3e2e7b688>"
      ]
     },
     "execution_count": 9,
     "metadata": {},
     "output_type": "execute_result"
    },
    {
     "data": {
      "image/png": "[encoded data removed]",
      "text/plain": [
       "<Figure size 1080x720 with 1 Axes>"
      ]
     },
     "metadata": {
      "needs_background": "light"
     },
     "output_type": "display_data"
    }
   ],
   "source": [
    "plt.figure(figsize=(15,10))\n",
    "plt.tight_layout()\n",
    "seabornInstance.distplot(dataset['MaxTemp'])"
   ]
  },
  {
   "cell_type": "code",
   "execution_count": null,
   "metadata": {
    "id": "yS25VnLnpSFc"
   },
   "outputs": [],
   "source": [
    "X = dataset['MinTemp'].values.reshape(-1,1)\n",
    "y = dataset['MaxTemp'].values.reshape(-1,1)"
   ]
  },
  {
   "cell_type": "code",
   "execution_count": null,
   "metadata": {
    "id": "_73_1LXGpSFc"
   },
   "outputs": [],
   "source": [
    "X_train, X_test, y_train, y_test = train_test_split(X, y, test_size=0.2, random_state=0)"
   ]
  },
  {
   "cell_type": "code",
   "execution_count": null,
   "metadata": {
    "id": "B4l9QccUpSFc",
    "outputId": "698017a2-ec1c-46a9-fbb0-644261ac3729"
   },
   "outputs": [
    {
     "data": {
      "text/plain": [
       "LinearRegression(copy_X=True, fit_intercept=True, n_jobs=None, normalize=False)"
      ]
     },
     "execution_count": 9,
     "metadata": {},
     "output_type": "execute_result"
    }
   ],
   "source": [
    "regressor = LinearRegression()  \n",
    "regressor.fit(X_train, y_train) #training the algorithm"
   ]
  },
  {
   "cell_type": "code",
   "execution_count": null,
   "metadata": {
    "id": "uen89JjFpSFd",
    "outputId": "5c078b74-1367-486c-e107-768f951bfa08"
   },
   "outputs": [
    {
     "name": "stdout",
     "output_type": "stream",
     "text": [
      "[14.56202411]\n",
      "[[0.81953755]]\n"
     ]
    }
   ],
   "source": [
    "#To retrieve the intercept:\n",
    "print(regressor.intercept_)\n",
    "\n",
    "#For retrieving the slope:\n",
    "print(regressor.coef_)"
   ]
  },
  {
   "cell_type": "code",
   "execution_count": null,
   "metadata": {
    "id": "8io5rOERpSFd"
   },
   "outputs": [],
   "source": [
    "y_pred = regressor.predict(X_test)"
   ]
  },
  {
   "cell_type": "code",
   "execution_count": null,
   "metadata": {
    "id": "kkKnQFA1pSFd",
    "outputId": "41691463-5e79-4134-ea31-cc4cd69871df"
   },
   "outputs": [
    {
     "data": {
      "text/html": [
       "<div>\n",
       "<style scoped>\n",
       "    .dataframe tbody tr th:only-of-type {\n",
       "        vertical-align: middle;\n",
       "    }\n",
       "\n",
       "    .dataframe tbody tr th {\n",
       "        vertical-align: top;\n",
       "    }\n",
       "\n",
       "    .dataframe thead th {\n",
       "        text-align: right;\n",
       "    }\n",
       "</style>\n",
       "<table border=\"1\" class=\"dataframe\">\n",
       "  <thead>\n",
       "    <tr style=\"text-align: right;\">\n",
       "      <th></th>\n",
       "      <th>Actual</th>\n",
       "      <th>Predicted</th>\n",
       "    </tr>\n",
       "  </thead>\n",
       "  <tbody>\n",
       "    <tr>\n",
       "      <th>0</th>\n",
       "      <td>25.2</td>\n",
       "      <td>23.413030</td>\n",
       "    </tr>\n",
       "    <tr>\n",
       "      <th>1</th>\n",
       "      <td>11.5</td>\n",
       "      <td>13.086857</td>\n",
       "    </tr>\n",
       "    <tr>\n",
       "      <th>2</th>\n",
       "      <td>21.1</td>\n",
       "      <td>27.264856</td>\n",
       "    </tr>\n",
       "    <tr>\n",
       "      <th>3</th>\n",
       "      <td>22.2</td>\n",
       "      <td>25.461874</td>\n",
       "    </tr>\n",
       "    <tr>\n",
       "      <th>4</th>\n",
       "      <td>20.4</td>\n",
       "      <td>26.937041</td>\n",
       "    </tr>\n",
       "    <tr>\n",
       "      <th>...</th>\n",
       "      <td>...</td>\n",
       "      <td>...</td>\n",
       "    </tr>\n",
       "    <tr>\n",
       "      <th>69</th>\n",
       "      <td>18.9</td>\n",
       "      <td>20.216833</td>\n",
       "    </tr>\n",
       "    <tr>\n",
       "      <th>70</th>\n",
       "      <td>22.8</td>\n",
       "      <td>27.674625</td>\n",
       "    </tr>\n",
       "    <tr>\n",
       "      <th>71</th>\n",
       "      <td>16.1</td>\n",
       "      <td>21.446140</td>\n",
       "    </tr>\n",
       "    <tr>\n",
       "      <th>72</th>\n",
       "      <td>25.1</td>\n",
       "      <td>24.970151</td>\n",
       "    </tr>\n",
       "    <tr>\n",
       "      <th>73</th>\n",
       "      <td>12.2</td>\n",
       "      <td>14.070302</td>\n",
       "    </tr>\n",
       "  </tbody>\n",
       "</table>\n",
       "<p>74 rows × 2 columns</p>\n",
       "</div>"
      ],
      "text/plain": [
       "    Actual  Predicted\n",
       "0     25.2  23.413030\n",
       "1     11.5  13.086857\n",
       "2     21.1  27.264856\n",
       "3     22.2  25.461874\n",
       "4     20.4  26.937041\n",
       "..     ...        ...\n",
       "69    18.9  20.216833\n",
       "70    22.8  27.674625\n",
       "71    16.1  21.446140\n",
       "72    25.1  24.970151\n",
       "73    12.2  14.070302\n",
       "\n",
       "[74 rows x 2 columns]"
      ]
     },
     "execution_count": 12,
     "metadata": {},
     "output_type": "execute_result"
    }
   ],
   "source": [
    "df = pd.DataFrame({'Actual': y_test.flatten(), 'Predicted': y_pred.flatten()})\n",
    "df"
   ]
  },
  {
   "cell_type": "code",
   "execution_count": null,
   "metadata": {
    "id": "u32uh6_epSFe",
    "outputId": "5b8f569b-d933-4898-9845-65e8bf9bd07b"
   },
   "outputs": [
    {
     "data": {
      "image/png": "[encoded data removed]",
      "text/plain": [
       "<Figure size 1152x720 with 1 Axes>"
      ]
     },
     "metadata": {
      "needs_background": "light"
     },
     "output_type": "display_data"
    }
   ],
   "source": [
    "df1 = df.head(25)\n",
    "df1.plot(kind='bar',figsize=(16,10))\n",
    "plt.grid(which='major', linestyle='-', linewidth='0.5', color='green')\n",
    "plt.grid(which='minor', linestyle=':', linewidth='0.5', color='black')\n",
    "plt.show()"
   ]
  },
  {
   "cell_type": "code",
   "execution_count": null,
   "metadata": {
    "id": "Ti4StChHpSFe",
    "outputId": "2dc45e07-ec12-4c5a-d408-ae96de42b36e"
   },
   "outputs": [
    {
     "data": {
      "image/png": "[encoded data removed]",
      "text/plain": [
       "<Figure size 432x288 with 1 Axes>"
      ]
     },
     "metadata": {
      "needs_background": "light"
     },
     "output_type": "display_data"
    }
   ],
   "source": [
    "plt.scatter(X_test, y_test,  color='gray')\n",
    "plt.plot(X_test, y_pred, color='red', linewidth=2)\n",
    "plt.show()"
   ]
  },
  {
   "cell_type": "code",
   "execution_count": null,
   "metadata": {
    "id": "GJ-NPLsipSFf"
   },
   "outputs": [],
   "source": [
    "from sklearn.metrics import mean_absolute_error"
   ]
  },
  {
   "cell_type": "code",
   "execution_count": null,
   "metadata": {
    "id": "HG78oqIupSFf",
    "outputId": "fc41a3dc-b62e-44e1-9f12-160629c08e38"
   },
   "outputs": [
    {
     "name": "stdout",
     "output_type": "stream",
     "text": [
      "MAE 3.5094353112899594\n"
     ]
    }
   ],
   "source": [
    "print(\"MAE\",mean_absolute_error(y_test,y_pred))"
   ]
  },
  {
   "cell_type": "code",
   "execution_count": null,
   "metadata": {
    "id": "VNm8mktspSFf",
    "outputId": "137ffc3c-0ce1-46eb-f539-def36ca5ca1d"
   },
   "outputs": [
    {
     "name": "stdout",
     "output_type": "stream",
     "text": [
      "MSE 17.011877668640622\n"
     ]
    }
   ],
   "source": [
    "from sklearn.metrics import mean_squared_error\n",
    "print(\"MSE\",mean_squared_error(y_test,y_pred))\n"
   ]
  },
  {
   "cell_type": "code",
   "execution_count": null,
   "metadata": {
    "id": "B5eKOoLopSFf",
    "outputId": "f310f33a-31b6-4618-c0b5-16757e7330f6"
   },
   "outputs": [
    {
     "name": "stdout",
     "output_type": "stream",
     "text": [
      "RMSE 4.124545753006096\n"
     ]
    }
   ],
   "source": [
    "print(\"RMSE\",np.sqrt(mean_squared_error(y_test,y_pred)))\n"
   ]
  },
  {
   "cell_type": "code",
   "execution_count": null,
   "metadata": {
    "id": "9oKfCjdupSFg"
   },
   "outputs": [],
   "source": [
    "m = 0\n",
    "c = 0"
   ]
  },
  {
   "cell_type": "code",
   "execution_count": null,
   "metadata": {
    "id": "W7CnvLoLpSFg"
   },
   "outputs": [],
   "source": [
    "L = 0.0001  # The learning Rate\n",
    "epochs = 1000  # The number of iterations to perform gradient descent"
   ]
  },
  {
   "cell_type": "code",
   "execution_count": null,
   "metadata": {
    "id": "SdjRSMJcpSFg",
    "outputId": "cc9d19e5-21d2-4a29-e739-4b412d603861"
   },
   "outputs": [
    {
     "name": "stdout",
     "output_type": "stream",
     "text": [
      "[[ 8. ]\n",
      " [14. ]\n",
      " [13.7]\n",
      " [13.3]\n",
      " [ 7.6]\n",
      " [ 6.2]\n",
      " [ 6.1]\n",
      " [ 8.3]\n",
      " [ 8.8]\n",
      " [ 8.4]\n",
      " [ 9.1]\n",
      " [ 8.5]\n",
      " [10.1]\n",
      " [12.1]\n",
      " [10.1]\n",
      " [12.4]\n",
      " [13.8]\n",
      " [11.7]\n",
      " [12.4]\n",
      " [15.6]\n",
      " [15.3]\n",
      " [16.4]\n",
      " [12.8]\n",
      " [12. ]\n",
      " [15.4]\n",
      " [15.6]\n",
      " [13.3]\n",
      " [12.9]\n",
      " [15.1]\n",
      " [13.6]\n",
      " [15.1]\n",
      " [11.6]\n",
      " [16.6]\n",
      " [13.3]\n",
      " [14.5]\n",
      " [16.3]\n",
      " [17.2]\n",
      " [16.5]\n",
      " [15. ]\n",
      " [14.9]\n",
      " [11.8]\n",
      " [11.7]\n",
      " [ 9.6]\n",
      " [ 8.9]\n",
      " [10.1]\n",
      " [15.5]\n",
      " [10.8]\n",
      " [ 7.5]\n",
      " [12.8]\n",
      " [12.6]\n",
      " [14.8]\n",
      " [19.9]\n",
      " [ 9.2]\n",
      " [12.4]\n",
      " [11.3]\n",
      " [ 9.8]\n",
      " [14.3]\n",
      " [15.1]\n",
      " [14.4]\n",
      " [15.4]\n",
      " [13.8]\n",
      " [13.6]\n",
      " [14.3]\n",
      " [15.9]\n",
      " [16.7]\n",
      " [12.1]\n",
      " [14.3]\n",
      " [16.5]\n",
      " [16.5]\n",
      " [17.5]\n",
      " [14.7]\n",
      " [17.5]\n",
      " [20.9]\n",
      " [17. ]\n",
      " [16. ]\n",
      " [15.4]\n",
      " [17.9]\n",
      " [15.2]\n",
      " [15.1]\n",
      " [15.3]\n",
      " [17.2]\n",
      " [15.9]\n",
      " [10. ]\n",
      " [ 9.9]\n",
      " [10.3]\n",
      " [15.4]\n",
      " [12.7]\n",
      " [13.2]\n",
      " [15.3]\n",
      " [17.9]\n",
      " [18. ]\n",
      " [17.6]\n",
      " [16. ]\n",
      " [14.9]\n",
      " [17.1]\n",
      " [18.2]\n",
      " [16.8]\n",
      " [13.6]\n",
      " [14.5]\n",
      " [12.4]\n",
      " [10.4]\n",
      " [ 9.1]\n",
      " [ 8.9]\n",
      " [14.5]\n",
      " [12.6]\n",
      " [ 8.6]\n",
      " [10.8]\n",
      " [11.2]\n",
      " [12.1]\n",
      " [10.8]\n",
      " [11.4]\n",
      " [12. ]\n",
      " [16.3]\n",
      " [12.7]\n",
      " [12.7]\n",
      " [12. ]\n",
      " [11.5]\n",
      " [13. ]\n",
      " [11.7]\n",
      " [14.8]\n",
      " [ 7.7]\n",
      " [ 4.4]\n",
      " [ 7.4]\n",
      " [ 8.3]\n",
      " [10.1]\n",
      " [12. ]\n",
      " [12.9]\n",
      " [10.8]\n",
      " [ 9.5]\n",
      " [12.1]\n",
      " [12.5]\n",
      " [13.9]\n",
      " [13.3]\n",
      " [13.2]\n",
      " [12.3]\n",
      " [13.8]\n",
      " [11.3]\n",
      " [11.7]\n",
      " [12.5]\n",
      " [15.1]\n",
      " [11.5]\n",
      " [13. ]\n",
      " [11.6]\n",
      " [12.8]\n",
      " [15.5]\n",
      " [13.1]\n",
      " [12.6]\n",
      " [ 4.4]\n",
      " [ 4.4]\n",
      " [ 7.1]\n",
      " [ 4.2]\n",
      " [ 9.6]\n",
      " [ 3.5]\n",
      " [ 5.3]\n",
      " [ 7. ]\n",
      " [ 0.4]\n",
      " [ 3.2]\n",
      " [ 5.9]\n",
      " [ 8.1]\n",
      " [ 6.9]\n",
      " [ 5.6]\n",
      " [ 7.2]\n",
      " [ 7.1]\n",
      " [ 6.1]\n",
      " [ 7.1]\n",
      " [ 5.6]\n",
      " [ 5.4]\n",
      " [ 6.3]\n",
      " [ 5.3]\n",
      " [ 7.9]\n",
      " [ 8.4]\n",
      " [ 8.1]\n",
      " [ 2.4]\n",
      " [ 5.6]\n",
      " [ 7.5]\n",
      " [ 2.5]\n",
      " [ 5. ]\n",
      " [ 3.8]\n",
      " [ 7.9]\n",
      " [ 4.3]\n",
      " [-2.1]\n",
      " [-1.8]\n",
      " [ 3.8]\n",
      " [ 2.1]\n",
      " [ 0.5]\n",
      " [-0.9]\n",
      " [ 0.4]\n",
      " [ 7.5]\n",
      " [ 8.3]\n",
      " [-0.2]\n",
      " [ 0.1]\n",
      " [ 1.5]\n",
      " [ 8.3]\n",
      " [ 9.4]\n",
      " [ 1.3]\n",
      " [ 2.2]\n",
      " [-0.4]\n",
      " [ 4.5]\n",
      " [ 7.9]\n",
      " [ 4.3]\n",
      " [-2.7]\n",
      " [ 0.3]\n",
      " [ 3.8]\n",
      " [ 2.4]\n",
      " [ 1.2]\n",
      " [ 1.2]\n",
      " [-0.3]\n",
      " [ 4.7]\n",
      " [ 4.9]\n",
      " [ 1.4]\n",
      " [ 2.2]\n",
      " [-0.1]\n",
      " [-0.9]\n",
      " [ 0.6]\n",
      " [ 4.6]\n",
      " [ 9.8]\n",
      " [10.6]\n",
      " [ 7.8]\n",
      " [ 4.4]\n",
      " [-0.2]\n",
      " [ 4.3]\n",
      " [ 7.4]\n",
      " [ 8.6]\n",
      " [10.2]\n",
      " [ 7.3]\n",
      " [ 8.7]\n",
      " [ 1. ]\n",
      " [ 2.1]\n",
      " [ 6.4]\n",
      " [ 5.4]\n",
      " [ 0.4]\n",
      " [ 4. ]\n",
      " [ 8.4]\n",
      " [ 0.4]\n",
      " [ 4.2]\n",
      " [ 0.9]\n",
      " [ 0.8]\n",
      " [ 4.3]\n",
      " [ 6.3]\n",
      " [ 3.5]\n",
      " [-1.5]\n",
      " [ 1.2]\n",
      " [ 0.5]\n",
      " [ 5.3]\n",
      " [ 6.6]\n",
      " [-1.6]\n",
      " [-3.1]\n",
      " [-0.1]\n",
      " [-0.6]\n",
      " [ 3. ]\n",
      " [ 2.9]\n",
      " [-1.3]\n",
      " [ 1.8]\n",
      " [ 2.9]\n",
      " [-2.6]\n",
      " [ 0.5]\n",
      " [ 2.7]\n",
      " [-1.7]\n",
      " [-0.9]\n",
      " [-1.8]\n",
      " [ 1.3]\n",
      " [ 2.4]\n",
      " [-1.1]\n",
      " [ 2.3]\n",
      " [-2.2]\n",
      " [-3.5]\n",
      " [-1. ]\n",
      " [-2.1]\n",
      " [-2. ]\n",
      " [-2.3]\n",
      " [-1.6]\n",
      " [ 0.8]\n",
      " [-2.8]\n",
      " [-2.8]\n",
      " [ 3. ]\n",
      " [ 4.4]\n",
      " [ 2.3]\n",
      " [-2. ]\n",
      " [-1.9]\n",
      " [ 4.8]\n",
      " [-0.6]\n",
      " [ 3.1]\n",
      " [-2.9]\n",
      " [-3.5]\n",
      " [-0.3]\n",
      " [ 0.1]\n",
      " [ 2.3]\n",
      " [ 2.1]\n",
      " [ 4.6]\n",
      " [ 3.7]\n",
      " [-1.3]\n",
      " [-3.4]\n",
      " [-5.3]\n",
      " [ 0. ]\n",
      " [ 2.4]\n",
      " [-0.6]\n",
      " [ 2.3]\n",
      " [-3.7]\n",
      " [-0.9]\n",
      " [-1.5]\n",
      " [-3.3]\n",
      " [-0.1]\n",
      " [-0.2]\n",
      " [ 0.5]\n",
      " [ 6.1]\n",
      " [ 4.1]\n",
      " [ 0.1]\n",
      " [ 3.2]\n",
      " [ 5.4]\n",
      " [ 5.8]\n",
      " [ 6.3]\n",
      " [-0.9]\n",
      " [ 0.2]\n",
      " [-3.7]\n",
      " [-2.7]\n",
      " [-2.5]\n",
      " [-0.5]\n",
      " [ 9. ]\n",
      " [13.1]\n",
      " [ 8.7]\n",
      " [ 3.9]\n",
      " [ 0.7]\n",
      " [ 1.1]\n",
      " [ 5.1]\n",
      " [ 7.5]\n",
      " [ 4.7]\n",
      " [ 3.2]\n",
      " [ 7.8]\n",
      " [ 2.4]\n",
      " [ 3.2]\n",
      " [ 2.5]\n",
      " [ 6.5]\n",
      " [14.4]\n",
      " [ 4.9]\n",
      " [ 2.3]\n",
      " [ 1.4]\n",
      " [ 5.6]\n",
      " [16.8]\n",
      " [14.4]\n",
      " [10.3]\n",
      " [11.2]\n",
      " [ 0.3]\n",
      " [ 0.5]\n",
      " [ 0.5]\n",
      " [ 4.6]\n",
      " [ 8.2]\n",
      " [ 4.5]\n",
      " [ 6.7]\n",
      " [11.9]\n",
      " [ 9.2]\n",
      " [ 4.4]\n",
      " [ 5. ]\n",
      " [ 6.7]\n",
      " [ 8.3]\n",
      " [11.3]\n",
      " [ 9. ]\n",
      " [ 3.4]\n",
      " [ 3.2]\n",
      " [ 0.9]\n",
      " [ 3.3]\n",
      " [ 7.9]\n",
      " [ 9. ]\n",
      " [ 7.1]\n",
      " [12.5]\n",
      " [12.5]\n",
      " [12.3]]\n"
     ]
    }
   ],
   "source": [
    "print(X) \n"
   ]
  },
  {
   "cell_type": "code",
   "execution_count": null,
   "metadata": {
    "id": "Vk13-WHOpSFg"
   },
   "outputs": [],
   "source": [
    "n = float(len(X)) # Number of elements in X"
   ]
  },
  {
   "cell_type": "code",
   "execution_count": null,
   "metadata": {
    "id": "uMdXpAe5pSFh",
    "outputId": "ac251b4e-abb5-41b5-982c-5d1637a4cee3"
   },
   "outputs": [
    {
     "ename": "IndexError",
     "evalue": "index 74 is out of bounds for axis 0 with size 74",
     "output_type": "error",
     "traceback": [
      "\u001b[1;31m---------------------------------------------------------------------------\u001b[0m",
      "\u001b[1;31mIndexError\u001b[0m                                Traceback (most recent call last)",
      "\u001b[1;32m<ipython-input-30-36c8e9ff41fb>\u001b[0m in \u001b[0;36m<module>\u001b[1;34m\u001b[0m\n\u001b[0;32m      2\u001b[0m \u001b[1;32mfor\u001b[0m \u001b[0mi\u001b[0m \u001b[1;32min\u001b[0m \u001b[0mrange\u001b[0m\u001b[1;33m(\u001b[0m\u001b[0mepochs\u001b[0m\u001b[1;33m)\u001b[0m\u001b[1;33m:\u001b[0m\u001b[1;33m\u001b[0m\u001b[1;33m\u001b[0m\u001b[0m\n\u001b[0;32m      3\u001b[0m     \u001b[0mY_pred\u001b[0m \u001b[1;33m=\u001b[0m \u001b[0mm\u001b[0m\u001b[1;33m*\u001b[0m\u001b[0mX\u001b[0m \u001b[1;33m+\u001b[0m \u001b[0mc\u001b[0m  \u001b[1;31m# The current predicted value of Y\u001b[0m\u001b[1;33m\u001b[0m\u001b[1;33m\u001b[0m\u001b[0m\n\u001b[1;32m----> 4\u001b[1;33m     \u001b[0mD_m\u001b[0m \u001b[1;33m=\u001b[0m \u001b[1;33m(\u001b[0m\u001b[1;33m-\u001b[0m\u001b[1;36m2\u001b[0m\u001b[1;33m/\u001b[0m\u001b[0mn\u001b[0m\u001b[1;33m)\u001b[0m \u001b[1;33m*\u001b[0m \u001b[0msum\u001b[0m\u001b[1;33m(\u001b[0m\u001b[0mX\u001b[0m\u001b[1;33m[\u001b[0m\u001b[0mi\u001b[0m\u001b[1;33m]\u001b[0m \u001b[1;33m*\u001b[0m \u001b[1;33m(\u001b[0m\u001b[0my_test\u001b[0m\u001b[1;33m[\u001b[0m\u001b[0mi\u001b[0m\u001b[1;33m]\u001b[0m\u001b[1;33m-\u001b[0m\u001b[0mY_pred\u001b[0m\u001b[1;33m)\u001b[0m\u001b[1;33m)\u001b[0m  \u001b[1;31m# Derivative wrt m\u001b[0m\u001b[1;33m\u001b[0m\u001b[1;33m\u001b[0m\u001b[0m\n\u001b[0m\u001b[0;32m      5\u001b[0m     \u001b[0mD_c\u001b[0m \u001b[1;33m=\u001b[0m \u001b[1;33m(\u001b[0m\u001b[1;33m-\u001b[0m\u001b[1;36m2\u001b[0m\u001b[1;33m/\u001b[0m\u001b[0mn\u001b[0m\u001b[1;33m)\u001b[0m \u001b[1;33m*\u001b[0m \u001b[0msum\u001b[0m\u001b[1;33m(\u001b[0m\u001b[0my_test\u001b[0m\u001b[1;33m[\u001b[0m\u001b[0mi\u001b[0m\u001b[1;33m]\u001b[0m \u001b[1;33m-\u001b[0m \u001b[0mY_pred\u001b[0m\u001b[1;33m)\u001b[0m  \u001b[1;31m# Derivative wrt c\u001b[0m\u001b[1;33m\u001b[0m\u001b[1;33m\u001b[0m\u001b[0m\n\u001b[0;32m      6\u001b[0m     \u001b[0mm\u001b[0m \u001b[1;33m=\u001b[0m \u001b[0mm\u001b[0m \u001b[1;33m-\u001b[0m \u001b[0mL\u001b[0m \u001b[1;33m*\u001b[0m \u001b[0mD_m\u001b[0m  \u001b[1;31m# Update m\u001b[0m\u001b[1;33m\u001b[0m\u001b[1;33m\u001b[0m\u001b[0m\n",
      "\u001b[1;31mIndexError\u001b[0m: index 74 is out of bounds for axis 0 with size 74"
     ]
    }
   ],
   "source": [
    "# Performing Gradient Descent \n",
    "for i in range(epochs): \n",
    "    Y_pred = m*X + c  # The current predicted value of Y\n",
    "    D_m = (-2/n) * sum(X[i] * (y_test[i]-Y_pred))  # Derivative wrt m\n",
    "    D_c = (-2/n) * sum(y_test[i] - Y_pred)  # Derivative wrt c\n",
    "    m = m - L * D_m  # Update m\n",
    "    c = c - L * D_c  # Update c\n",
    "    \n",
    "print (m, c)"
   ]
  },
  {
   "cell_type": "code",
   "execution_count": null,
   "metadata": {
    "id": "VX7gHV9mpSFh"
   },
   "outputs": [],
   "source": [
    "data = pd.read_csv('data.csv')"
   ]
  },
  {
   "cell_type": "code",
   "execution_count": null,
   "metadata": {
    "id": "qmOh33YWpSFh",
    "outputId": "9cc3c960-86a9-41da-fe7d-d984af93f9e0"
   },
   "outputs": [
    {
     "ename": "NameError",
     "evalue": "name 'info' is not defined",
     "output_type": "error",
     "traceback": [
      "\u001b[1;31m---------------------------------------------------------------------------\u001b[0m",
      "\u001b[1;31mNameError\u001b[0m                                 Traceback (most recent call last)",
      "\u001b[1;32m<ipython-input-33-ea1ced645ac0>\u001b[0m in \u001b[0;36m<module>\u001b[1;34m\u001b[0m\n\u001b[1;32m----> 1\u001b[1;33m \u001b[0minfo\u001b[0m\u001b[1;33m(\u001b[0m\u001b[0mdata\u001b[0m\u001b[1;33m)\u001b[0m\u001b[1;33m\u001b[0m\u001b[1;33m\u001b[0m\u001b[0m\n\u001b[0m",
      "\u001b[1;31mNameError\u001b[0m: name 'info' is not defined"
     ]
    }
   ],
   "source": [
    "info(data)\n"
   ]
  },
  {
   "cell_type": "code",
   "execution_count": null,
   "metadata": {
    "id": "bLR9os4mpSFh",
    "outputId": "e92a9459-c3fa-4347-92c2-82395ababe35"
   },
   "outputs": [
    {
     "name": "stdout",
     "output_type": "stream",
     "text": [
      "<class 'pandas.core.frame.DataFrame'>\n",
      "RangeIndex: 99 entries, 0 to 98\n",
      "Data columns (total 2 columns):\n",
      " #   Column              Non-Null Count  Dtype  \n",
      "---  ------              --------------  -----  \n",
      " 0   32.502345269453031  99 non-null     float64\n",
      " 1   31.70700584656992   99 non-null     float64\n",
      "dtypes: float64(2)\n",
      "memory usage: 1.7 KB\n"
     ]
    }
   ],
   "source": [
    "data.info()\n"
   ]
  },
  {
   "cell_type": "code",
   "execution_count": null,
   "metadata": {
    "id": "ABU2OTTrpSFh",
    "outputId": "9aece7dc-5248-4590-f321-ae4f921fd8e3"
   },
   "outputs": [
    {
     "data": {
      "text/plain": [
       "(99, 2)"
      ]
     },
     "execution_count": 44,
     "metadata": {},
     "output_type": "execute_result"
    }
   ],
   "source": [
    "data.shape"
   ]
  },
  {
   "cell_type": "code",
   "execution_count": null,
   "metadata": {
    "id": "HTfmKFzYpSFi",
    "outputId": "4859fa6e-637f-4636-9297-91ef14c3aad0"
   },
   "outputs": [
    {
     "data": {
      "text/html": [
       "<div>\n",
       "<style scoped>\n",
       "    .dataframe tbody tr th:only-of-type {\n",
       "        vertical-align: middle;\n",
       "    }\n",
       "\n",
       "    .dataframe tbody tr th {\n",
       "        vertical-align: top;\n",
       "    }\n",
       "\n",
       "    .dataframe thead th {\n",
       "        text-align: right;\n",
       "    }\n",
       "</style>\n",
       "<table border=\"1\" class=\"dataframe\">\n",
       "  <thead>\n",
       "    <tr style=\"text-align: right;\">\n",
       "      <th></th>\n",
       "      <th>32.502345269453031</th>\n",
       "      <th>31.70700584656992</th>\n",
       "    </tr>\n",
       "  </thead>\n",
       "  <tbody>\n",
       "    <tr>\n",
       "      <th>count</th>\n",
       "      <td>99.000000</td>\n",
       "      <td>99.000000</td>\n",
       "    </tr>\n",
       "    <tr>\n",
       "      <th>mean</th>\n",
       "      <td>49.124564</td>\n",
       "      <td>73.149475</td>\n",
       "    </tr>\n",
       "    <tr>\n",
       "      <th>std</th>\n",
       "      <td>9.652463</td>\n",
       "      <td>16.216558</td>\n",
       "    </tr>\n",
       "    <tr>\n",
       "      <th>min</th>\n",
       "      <td>25.128485</td>\n",
       "      <td>41.412885</td>\n",
       "    </tr>\n",
       "    <tr>\n",
       "      <th>25%</th>\n",
       "      <td>41.648159</td>\n",
       "      <td>61.088576</td>\n",
       "    </tr>\n",
       "    <tr>\n",
       "      <th>50%</th>\n",
       "      <td>50.030174</td>\n",
       "      <td>72.247251</td>\n",
       "    </tr>\n",
       "    <tr>\n",
       "      <th>75%</th>\n",
       "      <td>56.798054</td>\n",
       "      <td>83.287411</td>\n",
       "    </tr>\n",
       "    <tr>\n",
       "      <th>max</th>\n",
       "      <td>70.346076</td>\n",
       "      <td>118.591217</td>\n",
       "    </tr>\n",
       "  </tbody>\n",
       "</table>\n",
       "</div>"
      ],
      "text/plain": [
       "       32.502345269453031  31.70700584656992\n",
       "count           99.000000          99.000000\n",
       "mean            49.124564          73.149475\n",
       "std              9.652463          16.216558\n",
       "min             25.128485          41.412885\n",
       "25%             41.648159          61.088576\n",
       "50%             50.030174          72.247251\n",
       "75%             56.798054          83.287411\n",
       "max             70.346076         118.591217"
      ]
     },
     "execution_count": 37,
     "metadata": {},
     "output_type": "execute_result"
    }
   ],
   "source": [
    "data.describe()"
   ]
  },
  {
   "cell_type": "code",
   "execution_count": null,
   "metadata": {
    "id": "Xo6iFtLJpSFi"
   },
   "outputs": [],
   "source": [
    "import numpy as np\n",
    "import pandas as pd\n",
    "import matplotlib.pyplot as plt\n",
    "plt.rcParams['figure.figsize'] = (12.0, 9.0)\n"
   ]
  },
  {
   "cell_type": "code",
   "execution_count": null,
   "metadata": {
    "id": "TX2HvjZEpSFi",
    "outputId": "5a09a360-7f3b-4b37-9a30-0c2c94a9432a"
   },
   "outputs": [
    {
     "data": {
      "image/png": "[encoded data removed]",
      "text/plain": [
       "<Figure size 864x648 with 1 Axes>"
      ]
     },
     "metadata": {
      "needs_background": "light"
     },
     "output_type": "display_data"
    }
   ],
   "source": [
    "data = pd.read_csv('data.csv')\n",
    "X = data.iloc[:, 0]\n",
    "Y = data.iloc[:, 1]\n",
    "plt.scatter(X, Y)\n",
    "plt.show()"
   ]
  },
  {
   "cell_type": "code",
   "execution_count": null,
   "metadata": {
    "id": "vR7y_F8kpSFj",
    "outputId": "50bbcca5-36a1-471b-804b-f172f4fbfeb2"
   },
   "outputs": [
    {
     "data": {
      "text/plain": [
       "(99,)"
      ]
     },
     "execution_count": 40,
     "metadata": {},
     "output_type": "execute_result"
    }
   ],
   "source": [
    "X.shape"
   ]
  },
  {
   "cell_type": "code",
   "execution_count": null,
   "metadata": {
    "id": "f7GilFbqpSFj",
    "outputId": "bdec81ac-9940-4226-bca7-f3c4af6d82db"
   },
   "outputs": [
    {
     "data": {
      "text/plain": [
       "(99,)"
      ]
     },
     "execution_count": 41,
     "metadata": {},
     "output_type": "execute_result"
    }
   ],
   "source": [
    "Y.shape"
   ]
  },
  {
   "cell_type": "code",
   "execution_count": null,
   "metadata": {
    "id": "06-dH2lJpSFj",
    "outputId": "9b8eceec-9375-488b-b59f-cd83ac9eeff0"
   },
   "outputs": [
    {
     "name": "stdout",
     "output_type": "stream",
     "text": [
      "1.4796491688889395 0.10148121494753726\n"
     ]
    }
   ],
   "source": [
    "# Building the model\n",
    "m = 0\n",
    "c = 0\n",
    "\n",
    "L = 0.0001  # The learning Rate\n",
    "epochs = 1000  # The number of iterations to perform gradient descent\n",
    "\n",
    "n = float(len(X)) # Number of elements in X\n",
    "\n",
    "# Performing Gradient Descent \n",
    "for i in range(epochs): \n",
    "    Y_pred = m*X + c  # The current predicted value of Y\n",
    "    D_m = (-2/n) * sum(X * (Y - Y_pred))  # Derivative wrt m\n",
    "    D_c = (-2/n) * sum(Y - Y_pred)  # Derivative wrt c\n",
    "    m = m - L * D_m  # Update m\n",
    "    c = c - L * D_c  # Update c\n",
    "    \n",
    "print (m, c)"
   ]
  },
  {
   "cell_type": "code",
   "execution_count": null,
   "metadata": {
    "id": "mLaJifYDpSFj",
    "outputId": "55e46fa2-b90f-479a-e23e-abcad8fa2051"
   },
   "outputs": [
    {
     "data": {
      "image/png": "[encoded data removed]",
      "text/plain": [
       "<Figure size 864x648 with 1 Axes>"
      ]
     },
     "metadata": {
      "needs_background": "light"
     },
     "output_type": "display_data"
    }
   ],
   "source": [
    "# Making predictions\n",
    "Y_pred = m*X + c\n",
    "\n",
    "plt.scatter(X, Y) \n",
    "plt.plot([min(X), max(X)], [min(Y_pred), max(Y_pred)], color='red')  # regression line\n",
    "plt.show()"
   ]
  },
  {
   "cell_type": "code",
   "execution_count": null,
   "metadata": {
    "id": "nOxS2A6YpSFk",
    "outputId": "9a1e2fe1-5a50-463a-82e1-42c91d8c1c5f"
   },
   "outputs": [
    {
     "data": {
      "text/plain": [
       "(99,)"
      ]
     },
     "execution_count": 45,
     "metadata": {},
     "output_type": "execute_result"
    }
   ],
   "source": [
    "X.shape"
   ]
  },
  {
   "cell_type": "code",
   "execution_count": null,
   "metadata": {
    "id": "OLrT1x9UpSFk"
   },
   "outputs": [],
   "source": []
  }
 ],
 "metadata": {
  "colab": {
   "provenance": []
  },
  "kernelspec": {
   "display_name": "Python 3 (ipykernel)",
   "language": "python",
   "name": "python3"
  },
  "language_info": {
   "codemirror_mode": {
    "name": "ipython",
    "version": 3
   },
   "file_extension": ".py",
   "mimetype": "text/x-python",
   "name": "python",
   "nbconvert_exporter": "python",
   "pygments_lexer": "ipython3",
   "version": "3.8.10"
  }
 },
 "nbformat": 4,
 "nbformat_minor": 1
}
