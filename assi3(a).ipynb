{
 "cells": [
  {
   "cell_type": "code",
   "execution_count": 1,
   "id": "344c6ce2",
   "metadata": {},
   "outputs": [],
   "source": [
    "import pandas as pd\n",
    "import numpy as np"
   ]
  },
  {
   "cell_type": "code",
   "execution_count": 2,
   "id": "e7c933fd",
   "metadata": {},
   "outputs": [],
   "source": [
    "df = pd.read_csv(\"nba.csv\")"
   ]
  },
  {
   "cell_type": "code",
   "execution_count": 3,
   "id": "1a10629f",
   "metadata": {},
   "outputs": [
    {
     "data": {
      "text/html": [
       "<div>\n",
       "<style scoped>\n",
       "    .dataframe tbody tr th:only-of-type {\n",
       "        vertical-align: middle;\n",
       "    }\n",
       "\n",
       "    .dataframe tbody tr th {\n",
       "        vertical-align: top;\n",
       "    }\n",
       "\n",
       "    .dataframe thead th {\n",
       "        text-align: right;\n",
       "    }\n",
       "</style>\n",
       "<table border=\"1\" class=\"dataframe\">\n",
       "  <thead>\n",
       "    <tr style=\"text-align: right;\">\n",
       "      <th></th>\n",
       "      <th>Name</th>\n",
       "      <th>Team</th>\n",
       "      <th>Number</th>\n",
       "      <th>Position</th>\n",
       "      <th>Age</th>\n",
       "      <th>Height</th>\n",
       "      <th>Weight</th>\n",
       "      <th>College</th>\n",
       "      <th>Salary</th>\n",
       "    </tr>\n",
       "  </thead>\n",
       "  <tbody>\n",
       "    <tr>\n",
       "      <th>0</th>\n",
       "      <td>Avery Bradley</td>\n",
       "      <td>Boston Celtics</td>\n",
       "      <td>0.0</td>\n",
       "      <td>PG</td>\n",
       "      <td>25.0</td>\n",
       "      <td>6-2</td>\n",
       "      <td>180.0</td>\n",
       "      <td>Texas</td>\n",
       "      <td>7730337.0</td>\n",
       "    </tr>\n",
       "    <tr>\n",
       "      <th>1</th>\n",
       "      <td>Jae Crowder</td>\n",
       "      <td>Boston Celtics</td>\n",
       "      <td>99.0</td>\n",
       "      <td>SF</td>\n",
       "      <td>25.0</td>\n",
       "      <td>6-6</td>\n",
       "      <td>235.0</td>\n",
       "      <td>Marquette</td>\n",
       "      <td>6796117.0</td>\n",
       "    </tr>\n",
       "    <tr>\n",
       "      <th>2</th>\n",
       "      <td>John Holland</td>\n",
       "      <td>Boston Celtics</td>\n",
       "      <td>30.0</td>\n",
       "      <td>SG</td>\n",
       "      <td>27.0</td>\n",
       "      <td>6-5</td>\n",
       "      <td>205.0</td>\n",
       "      <td>Boston University</td>\n",
       "      <td>NaN</td>\n",
       "    </tr>\n",
       "    <tr>\n",
       "      <th>3</th>\n",
       "      <td>R.J. Hunter</td>\n",
       "      <td>Boston Celtics</td>\n",
       "      <td>28.0</td>\n",
       "      <td>SG</td>\n",
       "      <td>22.0</td>\n",
       "      <td>6-5</td>\n",
       "      <td>185.0</td>\n",
       "      <td>Georgia State</td>\n",
       "      <td>1148640.0</td>\n",
       "    </tr>\n",
       "    <tr>\n",
       "      <th>4</th>\n",
       "      <td>Jonas Jerebko</td>\n",
       "      <td>Boston Celtics</td>\n",
       "      <td>8.0</td>\n",
       "      <td>PF</td>\n",
       "      <td>29.0</td>\n",
       "      <td>6-10</td>\n",
       "      <td>231.0</td>\n",
       "      <td>NaN</td>\n",
       "      <td>5000000.0</td>\n",
       "    </tr>\n",
       "  </tbody>\n",
       "</table>\n",
       "</div>"
      ],
      "text/plain": [
       "            Name            Team  Number Position   Age Height  Weight  \\\n",
       "0  Avery Bradley  Boston Celtics     0.0       PG  25.0    6-2   180.0   \n",
       "1    Jae Crowder  Boston Celtics    99.0       SF  25.0    6-6   235.0   \n",
       "2   John Holland  Boston Celtics    30.0       SG  27.0    6-5   205.0   \n",
       "3    R.J. Hunter  Boston Celtics    28.0       SG  22.0    6-5   185.0   \n",
       "4  Jonas Jerebko  Boston Celtics     8.0       PF  29.0   6-10   231.0   \n",
       "\n",
       "             College     Salary  \n",
       "0              Texas  7730337.0  \n",
       "1          Marquette  6796117.0  \n",
       "2  Boston University        NaN  \n",
       "3      Georgia State  1148640.0  \n",
       "4                NaN  5000000.0  "
      ]
     },
     "execution_count": 3,
     "metadata": {},
     "output_type": "execute_result"
    }
   ],
   "source": [
    "df.head()"
   ]
  },
  {
   "cell_type": "code",
   "execution_count": 4,
   "id": "7038b8c5",
   "metadata": {},
   "outputs": [
    {
     "data": {
      "text/plain": [
       "6-9     59\n",
       "6-10    47\n",
       "6-7     45\n",
       "6-8     43\n",
       "6-6     42\n",
       "6-11    40\n",
       "6-3     33\n",
       "6-5     32\n",
       "6-4     29\n",
       "7-0     27\n",
       "6-1     16\n",
       "6-2     16\n",
       "6-0     10\n",
       "7-1      7\n",
       "7-3      4\n",
       "5-11     3\n",
       "7-2      3\n",
       "5-9      1\n",
       "Name: Height, dtype: int64"
      ]
     },
     "execution_count": 4,
     "metadata": {},
     "output_type": "execute_result"
    }
   ],
   "source": [
    "df['Height'].value_counts()"
   ]
  },
  {
   "cell_type": "code",
   "execution_count": 6,
   "id": "d2218f31",
   "metadata": {},
   "outputs": [],
   "source": [
    "heightgrp = df.groupby(df['Height'])"
   ]
  },
  {
   "cell_type": "code",
   "execution_count": 7,
   "id": "becd4bb1",
   "metadata": {},
   "outputs": [
    {
     "data": {
      "text/html": [
       "<div>\n",
       "<style scoped>\n",
       "    .dataframe tbody tr th:only-of-type {\n",
       "        vertical-align: middle;\n",
       "    }\n",
       "\n",
       "    .dataframe tbody tr th {\n",
       "        vertical-align: top;\n",
       "    }\n",
       "\n",
       "    .dataframe thead th {\n",
       "        text-align: right;\n",
       "    }\n",
       "</style>\n",
       "<table border=\"1\" class=\"dataframe\">\n",
       "  <thead>\n",
       "    <tr style=\"text-align: right;\">\n",
       "      <th></th>\n",
       "      <th>Name</th>\n",
       "      <th>Team</th>\n",
       "      <th>Number</th>\n",
       "      <th>Position</th>\n",
       "      <th>Age</th>\n",
       "      <th>Height</th>\n",
       "      <th>Weight</th>\n",
       "      <th>College</th>\n",
       "      <th>Salary</th>\n",
       "    </tr>\n",
       "  </thead>\n",
       "  <tbody>\n",
       "    <tr>\n",
       "      <th>22</th>\n",
       "      <td>Shane Larkin</td>\n",
       "      <td>Brooklyn Nets</td>\n",
       "      <td>0.0</td>\n",
       "      <td>PG</td>\n",
       "      <td>23.0</td>\n",
       "      <td>5-11</td>\n",
       "      <td>175.0</td>\n",
       "      <td>Miami (FL)</td>\n",
       "      <td>1500000.0</td>\n",
       "    </tr>\n",
       "    <tr>\n",
       "      <th>130</th>\n",
       "      <td>Phil Pressey</td>\n",
       "      <td>Phoenix Suns</td>\n",
       "      <td>25.0</td>\n",
       "      <td>PG</td>\n",
       "      <td>25.0</td>\n",
       "      <td>5-11</td>\n",
       "      <td>175.0</td>\n",
       "      <td>Missouri</td>\n",
       "      <td>55722.0</td>\n",
       "    </tr>\n",
       "    <tr>\n",
       "      <th>203</th>\n",
       "      <td>Ty Lawson</td>\n",
       "      <td>Indiana Pacers</td>\n",
       "      <td>10.0</td>\n",
       "      <td>PG</td>\n",
       "      <td>28.0</td>\n",
       "      <td>5-11</td>\n",
       "      <td>195.0</td>\n",
       "      <td>North Carolina</td>\n",
       "      <td>211744.0</td>\n",
       "    </tr>\n",
       "  </tbody>\n",
       "</table>\n",
       "</div>"
      ],
      "text/plain": [
       "             Name            Team  Number Position   Age Height  Weight  \\\n",
       "22   Shane Larkin   Brooklyn Nets     0.0       PG  23.0   5-11   175.0   \n",
       "130  Phil Pressey    Phoenix Suns    25.0       PG  25.0   5-11   175.0   \n",
       "203     Ty Lawson  Indiana Pacers    10.0       PG  28.0   5-11   195.0   \n",
       "\n",
       "            College     Salary  \n",
       "22       Miami (FL)  1500000.0  \n",
       "130        Missouri    55722.0  \n",
       "203  North Carolina   211744.0  "
      ]
     },
     "execution_count": 7,
     "metadata": {},
     "output_type": "execute_result"
    }
   ],
   "source": [
    "heightgrp.get_group('5-11')"
   ]
  },
  {
   "cell_type": "code",
   "execution_count": 8,
   "id": "3733900c",
   "metadata": {},
   "outputs": [],
   "source": [
    "df.dropna(inplace = True)"
   ]
  },
  {
   "cell_type": "code",
   "execution_count": 9,
   "id": "60017695",
   "metadata": {},
   "outputs": [
    {
     "data": {
      "text/html": [
       "<div>\n",
       "<style scoped>\n",
       "    .dataframe tbody tr th:only-of-type {\n",
       "        vertical-align: middle;\n",
       "    }\n",
       "\n",
       "    .dataframe tbody tr th {\n",
       "        vertical-align: top;\n",
       "    }\n",
       "\n",
       "    .dataframe thead th {\n",
       "        text-align: right;\n",
       "    }\n",
       "</style>\n",
       "<table border=\"1\" class=\"dataframe\">\n",
       "  <thead>\n",
       "    <tr style=\"text-align: right;\">\n",
       "      <th></th>\n",
       "      <th>Name</th>\n",
       "      <th>Team</th>\n",
       "      <th>Number</th>\n",
       "      <th>Position</th>\n",
       "      <th>Age</th>\n",
       "      <th>Height</th>\n",
       "      <th>Weight</th>\n",
       "      <th>College</th>\n",
       "      <th>Salary</th>\n",
       "    </tr>\n",
       "  </thead>\n",
       "  <tbody>\n",
       "    <tr>\n",
       "      <th>0</th>\n",
       "      <td>Avery Bradley</td>\n",
       "      <td>Boston Celtics</td>\n",
       "      <td>0.0</td>\n",
       "      <td>PG</td>\n",
       "      <td>25.0</td>\n",
       "      <td>6-2</td>\n",
       "      <td>180.0</td>\n",
       "      <td>Texas</td>\n",
       "      <td>7730337.0</td>\n",
       "    </tr>\n",
       "    <tr>\n",
       "      <th>1</th>\n",
       "      <td>Jae Crowder</td>\n",
       "      <td>Boston Celtics</td>\n",
       "      <td>99.0</td>\n",
       "      <td>SF</td>\n",
       "      <td>25.0</td>\n",
       "      <td>6-6</td>\n",
       "      <td>235.0</td>\n",
       "      <td>Marquette</td>\n",
       "      <td>6796117.0</td>\n",
       "    </tr>\n",
       "    <tr>\n",
       "      <th>3</th>\n",
       "      <td>R.J. Hunter</td>\n",
       "      <td>Boston Celtics</td>\n",
       "      <td>28.0</td>\n",
       "      <td>SG</td>\n",
       "      <td>22.0</td>\n",
       "      <td>6-5</td>\n",
       "      <td>185.0</td>\n",
       "      <td>Georgia State</td>\n",
       "      <td>1148640.0</td>\n",
       "    </tr>\n",
       "    <tr>\n",
       "      <th>6</th>\n",
       "      <td>Jordan Mickey</td>\n",
       "      <td>Boston Celtics</td>\n",
       "      <td>55.0</td>\n",
       "      <td>PF</td>\n",
       "      <td>21.0</td>\n",
       "      <td>6-8</td>\n",
       "      <td>235.0</td>\n",
       "      <td>LSU</td>\n",
       "      <td>1170960.0</td>\n",
       "    </tr>\n",
       "    <tr>\n",
       "      <th>7</th>\n",
       "      <td>Kelly Olynyk</td>\n",
       "      <td>Boston Celtics</td>\n",
       "      <td>41.0</td>\n",
       "      <td>C</td>\n",
       "      <td>25.0</td>\n",
       "      <td>7-0</td>\n",
       "      <td>238.0</td>\n",
       "      <td>Gonzaga</td>\n",
       "      <td>2165160.0</td>\n",
       "    </tr>\n",
       "  </tbody>\n",
       "</table>\n",
       "</div>"
      ],
      "text/plain": [
       "            Name            Team  Number Position   Age Height  Weight  \\\n",
       "0  Avery Bradley  Boston Celtics     0.0       PG  25.0    6-2   180.0   \n",
       "1    Jae Crowder  Boston Celtics    99.0       SF  25.0    6-6   235.0   \n",
       "3    R.J. Hunter  Boston Celtics    28.0       SG  22.0    6-5   185.0   \n",
       "6  Jordan Mickey  Boston Celtics    55.0       PF  21.0    6-8   235.0   \n",
       "7   Kelly Olynyk  Boston Celtics    41.0        C  25.0    7-0   238.0   \n",
       "\n",
       "         College     Salary  \n",
       "0          Texas  7730337.0  \n",
       "1      Marquette  6796117.0  \n",
       "3  Georgia State  1148640.0  \n",
       "6            LSU  1170960.0  \n",
       "7        Gonzaga  2165160.0  "
      ]
     },
     "execution_count": 9,
     "metadata": {},
     "output_type": "execute_result"
    }
   ],
   "source": [
    "df.head()"
   ]
  },
  {
   "cell_type": "code",
   "execution_count": 10,
   "id": "8e69be00",
   "metadata": {},
   "outputs": [
    {
     "name": "stdout",
     "output_type": "stream",
     "text": [
      "<pandas.core.groupby.generic.DataFrameGroupBy object at 0x7f42e634cd90>\n"
     ]
    }
   ],
   "source": [
    "print(heightgrp)"
   ]
  },
  {
   "cell_type": "code",
   "execution_count": 11,
   "id": "0a122438",
   "metadata": {},
   "outputs": [
    {
     "data": {
      "text/plain": [
       "<pandas.core.groupby.generic.DataFrameGroupBy object at 0x7f42e634cd90>"
      ]
     },
     "execution_count": 11,
     "metadata": {},
     "output_type": "execute_result"
    }
   ],
   "source": [
    "heightgrp"
   ]
  },
  {
   "cell_type": "code",
   "execution_count": 12,
   "id": "a415416d",
   "metadata": {},
   "outputs": [],
   "source": [
    "bins = [19, 25, 31, 36, 40]\n",
    "labels = ['19-24', '25-30', '31-35','36-40']\n",
    "df['AgeGroup'] = pd.cut(df['Age'], bins = bins, labels = labels, right = False)"
   ]
  },
  {
   "cell_type": "code",
   "execution_count": 13,
   "id": "2393b1b8",
   "metadata": {},
   "outputs": [
    {
     "data": {
      "text/html": [
       "<div>\n",
       "<style scoped>\n",
       "    .dataframe tbody tr th:only-of-type {\n",
       "        vertical-align: middle;\n",
       "    }\n",
       "\n",
       "    .dataframe tbody tr th {\n",
       "        vertical-align: top;\n",
       "    }\n",
       "\n",
       "    .dataframe thead th {\n",
       "        text-align: right;\n",
       "    }\n",
       "</style>\n",
       "<table border=\"1\" class=\"dataframe\">\n",
       "  <thead>\n",
       "    <tr style=\"text-align: right;\">\n",
       "      <th></th>\n",
       "      <th>Name</th>\n",
       "      <th>Team</th>\n",
       "      <th>Number</th>\n",
       "      <th>Position</th>\n",
       "      <th>Age</th>\n",
       "      <th>Height</th>\n",
       "      <th>Weight</th>\n",
       "      <th>College</th>\n",
       "      <th>Salary</th>\n",
       "      <th>AgeGroup</th>\n",
       "    </tr>\n",
       "  </thead>\n",
       "  <tbody>\n",
       "    <tr>\n",
       "      <th>0</th>\n",
       "      <td>Avery Bradley</td>\n",
       "      <td>Boston Celtics</td>\n",
       "      <td>0.0</td>\n",
       "      <td>PG</td>\n",
       "      <td>25.0</td>\n",
       "      <td>6-2</td>\n",
       "      <td>180.0</td>\n",
       "      <td>Texas</td>\n",
       "      <td>7730337.0</td>\n",
       "      <td>25-30</td>\n",
       "    </tr>\n",
       "    <tr>\n",
       "      <th>1</th>\n",
       "      <td>Jae Crowder</td>\n",
       "      <td>Boston Celtics</td>\n",
       "      <td>99.0</td>\n",
       "      <td>SF</td>\n",
       "      <td>25.0</td>\n",
       "      <td>6-6</td>\n",
       "      <td>235.0</td>\n",
       "      <td>Marquette</td>\n",
       "      <td>6796117.0</td>\n",
       "      <td>25-30</td>\n",
       "    </tr>\n",
       "    <tr>\n",
       "      <th>3</th>\n",
       "      <td>R.J. Hunter</td>\n",
       "      <td>Boston Celtics</td>\n",
       "      <td>28.0</td>\n",
       "      <td>SG</td>\n",
       "      <td>22.0</td>\n",
       "      <td>6-5</td>\n",
       "      <td>185.0</td>\n",
       "      <td>Georgia State</td>\n",
       "      <td>1148640.0</td>\n",
       "      <td>19-24</td>\n",
       "    </tr>\n",
       "    <tr>\n",
       "      <th>6</th>\n",
       "      <td>Jordan Mickey</td>\n",
       "      <td>Boston Celtics</td>\n",
       "      <td>55.0</td>\n",
       "      <td>PF</td>\n",
       "      <td>21.0</td>\n",
       "      <td>6-8</td>\n",
       "      <td>235.0</td>\n",
       "      <td>LSU</td>\n",
       "      <td>1170960.0</td>\n",
       "      <td>19-24</td>\n",
       "    </tr>\n",
       "    <tr>\n",
       "      <th>7</th>\n",
       "      <td>Kelly Olynyk</td>\n",
       "      <td>Boston Celtics</td>\n",
       "      <td>41.0</td>\n",
       "      <td>C</td>\n",
       "      <td>25.0</td>\n",
       "      <td>7-0</td>\n",
       "      <td>238.0</td>\n",
       "      <td>Gonzaga</td>\n",
       "      <td>2165160.0</td>\n",
       "      <td>25-30</td>\n",
       "    </tr>\n",
       "  </tbody>\n",
       "</table>\n",
       "</div>"
      ],
      "text/plain": [
       "            Name            Team  Number Position   Age Height  Weight  \\\n",
       "0  Avery Bradley  Boston Celtics     0.0       PG  25.0    6-2   180.0   \n",
       "1    Jae Crowder  Boston Celtics    99.0       SF  25.0    6-6   235.0   \n",
       "3    R.J. Hunter  Boston Celtics    28.0       SG  22.0    6-5   185.0   \n",
       "6  Jordan Mickey  Boston Celtics    55.0       PF  21.0    6-8   235.0   \n",
       "7   Kelly Olynyk  Boston Celtics    41.0        C  25.0    7-0   238.0   \n",
       "\n",
       "         College     Salary AgeGroup  \n",
       "0          Texas  7730337.0    25-30  \n",
       "1      Marquette  6796117.0    25-30  \n",
       "3  Georgia State  1148640.0    19-24  \n",
       "6            LSU  1170960.0    19-24  \n",
       "7        Gonzaga  2165160.0    25-30  "
      ]
     },
     "execution_count": 13,
     "metadata": {},
     "output_type": "execute_result"
    }
   ],
   "source": [
    "df.head()"
   ]
  },
  {
   "cell_type": "code",
   "execution_count": 14,
   "id": "9192a490",
   "metadata": {},
   "outputs": [
    {
     "data": {
      "text/plain": [
       "25-30    172\n",
       "19-24    128\n",
       "31-35     48\n",
       "36-40     14\n",
       "Name: AgeGroup, dtype: int64"
      ]
     },
     "execution_count": 14,
     "metadata": {},
     "output_type": "execute_result"
    }
   ],
   "source": [
    "df['AgeGroup'].value_counts()"
   ]
  },
  {
   "cell_type": "code",
   "execution_count": 16,
   "id": "765c8753",
   "metadata": {},
   "outputs": [
    {
     "data": {
      "text/plain": [
       "AgeGroup\n",
       "19-24    16407501.0\n",
       "25-30    20158622.0\n",
       "31-35    22875000.0\n",
       "36-40     5675000.0\n",
       "Name: Salary, dtype: float64"
      ]
     },
     "execution_count": 16,
     "metadata": {},
     "output_type": "execute_result"
    }
   ],
   "source": [
    "df.groupby('AgeGroup')['Salary'].max()"
   ]
  },
  {
   "cell_type": "code",
   "execution_count": 17,
   "id": "8e846dfb",
   "metadata": {},
   "outputs": [
    {
     "data": {
      "text/plain": [
       "AgeGroup\n",
       "19-24     83397.0\n",
       "25-30     55722.0\n",
       "31-35    200600.0\n",
       "36-40    222888.0\n",
       "Name: Salary, dtype: float64"
      ]
     },
     "execution_count": 17,
     "metadata": {},
     "output_type": "execute_result"
    }
   ],
   "source": [
    "df.groupby('AgeGroup')['Salary'].min()"
   ]
  },
  {
   "cell_type": "code",
   "execution_count": 18,
   "id": "271d5ede",
   "metadata": {},
   "outputs": [
    {
     "data": {
      "text/plain": [
       "AgeGroup\n",
       "19-24    128\n",
       "25-30    172\n",
       "31-35     48\n",
       "36-40     14\n",
       "Name: Salary, dtype: int64"
      ]
     },
     "execution_count": 18,
     "metadata": {},
     "output_type": "execute_result"
    }
   ],
   "source": [
    "df.groupby('AgeGroup')['Salary'].count()"
   ]
  },
  {
   "cell_type": "code",
   "execution_count": 19,
   "id": "f9cb47c0",
   "metadata": {},
   "outputs": [
    {
     "data": {
      "text/plain": [
       "AgeGroup\n",
       "19-24    3.402048e+06\n",
       "25-30    5.639105e+06\n",
       "31-35    6.092403e+06\n",
       "36-40    1.732754e+06\n",
       "Name: Salary, dtype: float64"
      ]
     },
     "execution_count": 19,
     "metadata": {},
     "output_type": "execute_result"
    }
   ],
   "source": [
    "df.groupby('AgeGroup')['Salary'].std()"
   ]
  },
  {
   "cell_type": "code",
   "execution_count": 20,
   "id": "d6a0a913",
   "metadata": {},
   "outputs": [
    {
     "data": {
      "text/plain": [
       "AgeGroup\n",
       "19-24    2.829308e+06\n",
       "25-30    5.749697e+06\n",
       "31-35    6.084955e+06\n",
       "36-40    2.365384e+06\n",
       "Name: Salary, dtype: float64"
      ]
     },
     "execution_count": 20,
     "metadata": {},
     "output_type": "execute_result"
    }
   ],
   "source": [
    "df.groupby('AgeGroup')['Salary'].mean()"
   ]
  },
  {
   "cell_type": "code",
   "execution_count": 21,
   "id": "82711210",
   "metadata": {},
   "outputs": [
    {
     "data": {
      "text/plain": [
       "AgeGroup\n",
       "19-24    1615440.0\n",
       "25-30    3479421.5\n",
       "31-35    4171723.0\n",
       "36-40    1809826.0\n",
       "Name: Salary, dtype: float64"
      ]
     },
     "execution_count": 21,
     "metadata": {},
     "output_type": "execute_result"
    }
   ],
   "source": [
    "df.groupby('AgeGroup')['Salary'].median()"
   ]
  },
  {
   "cell_type": "code",
   "execution_count": 22,
   "id": "816c2cca",
   "metadata": {},
   "outputs": [
    {
     "data": {
      "text/html": [
       "<div>\n",
       "<style scoped>\n",
       "    .dataframe tbody tr th:only-of-type {\n",
       "        vertical-align: middle;\n",
       "    }\n",
       "\n",
       "    .dataframe tbody tr th {\n",
       "        vertical-align: top;\n",
       "    }\n",
       "\n",
       "    .dataframe thead th {\n",
       "        text-align: right;\n",
       "    }\n",
       "</style>\n",
       "<table border=\"1\" class=\"dataframe\">\n",
       "  <thead>\n",
       "    <tr style=\"text-align: right;\">\n",
       "      <th></th>\n",
       "      <th>count</th>\n",
       "      <th>mean</th>\n",
       "      <th>std</th>\n",
       "      <th>min</th>\n",
       "      <th>25%</th>\n",
       "      <th>50%</th>\n",
       "      <th>75%</th>\n",
       "      <th>max</th>\n",
       "    </tr>\n",
       "    <tr>\n",
       "      <th>AgeGroup</th>\n",
       "      <th></th>\n",
       "      <th></th>\n",
       "      <th></th>\n",
       "      <th></th>\n",
       "      <th></th>\n",
       "      <th></th>\n",
       "      <th></th>\n",
       "      <th></th>\n",
       "    </tr>\n",
       "  </thead>\n",
       "  <tbody>\n",
       "    <tr>\n",
       "      <th>19-24</th>\n",
       "      <td>128.0</td>\n",
       "      <td>2.829308e+06</td>\n",
       "      <td>3.402048e+06</td>\n",
       "      <td>83397.0</td>\n",
       "      <td>947276.00</td>\n",
       "      <td>1615440.0</td>\n",
       "      <td>3116157.00</td>\n",
       "      <td>16407501.0</td>\n",
       "    </tr>\n",
       "    <tr>\n",
       "      <th>25-30</th>\n",
       "      <td>172.0</td>\n",
       "      <td>5.749697e+06</td>\n",
       "      <td>5.639105e+06</td>\n",
       "      <td>55722.0</td>\n",
       "      <td>1015421.00</td>\n",
       "      <td>3479421.5</td>\n",
       "      <td>8991573.75</td>\n",
       "      <td>20158622.0</td>\n",
       "    </tr>\n",
       "    <tr>\n",
       "      <th>31-35</th>\n",
       "      <td>48.0</td>\n",
       "      <td>6.084955e+06</td>\n",
       "      <td>6.092403e+06</td>\n",
       "      <td>200600.0</td>\n",
       "      <td>2096417.75</td>\n",
       "      <td>4171723.0</td>\n",
       "      <td>6646250.00</td>\n",
       "      <td>22875000.0</td>\n",
       "    </tr>\n",
       "    <tr>\n",
       "      <th>36-40</th>\n",
       "      <td>14.0</td>\n",
       "      <td>2.365384e+06</td>\n",
       "      <td>1.732754e+06</td>\n",
       "      <td>222888.0</td>\n",
       "      <td>947276.00</td>\n",
       "      <td>1809826.0</td>\n",
       "      <td>3500875.00</td>\n",
       "      <td>5675000.0</td>\n",
       "    </tr>\n",
       "  </tbody>\n",
       "</table>\n",
       "</div>"
      ],
      "text/plain": [
       "          count          mean           std       min         25%        50%  \\\n",
       "AgeGroup                                                                       \n",
       "19-24     128.0  2.829308e+06  3.402048e+06   83397.0   947276.00  1615440.0   \n",
       "25-30     172.0  5.749697e+06  5.639105e+06   55722.0  1015421.00  3479421.5   \n",
       "31-35      48.0  6.084955e+06  6.092403e+06  200600.0  2096417.75  4171723.0   \n",
       "36-40      14.0  2.365384e+06  1.732754e+06  222888.0   947276.00  1809826.0   \n",
       "\n",
       "                 75%         max  \n",
       "AgeGroup                          \n",
       "19-24     3116157.00  16407501.0  \n",
       "25-30     8991573.75  20158622.0  \n",
       "31-35     6646250.00  22875000.0  \n",
       "36-40     3500875.00   5675000.0  "
      ]
     },
     "execution_count": 22,
     "metadata": {},
     "output_type": "execute_result"
    }
   ],
   "source": [
    "df.groupby('AgeGroup')['Salary'].describe()"
   ]
  },
  {
   "cell_type": "code",
   "execution_count": 23,
   "id": "4f1a5b68",
   "metadata": {},
   "outputs": [],
   "source": [
    "Salary_list = list(df.groupby('AgeGroup')['Salary'])"
   ]
  },
  {
   "cell_type": "code",
   "execution_count": 24,
   "id": "9032aafa",
   "metadata": {},
   "outputs": [
    {
     "data": {
      "text/plain": [
       "[('19-24',\n",
       "  3       1148640.0\n",
       "  6       1170960.0\n",
       "  8       1824360.0\n",
       "  9       3431040.0\n",
       "  10      2569260.0\n",
       "            ...    \n",
       "  443     2658240.0\n",
       "  444     9463484.0\n",
       "  446    12000000.0\n",
       "  449     1348440.0\n",
       "  452     2239800.0\n",
       "  Name: Salary, Length: 128, dtype: float64),\n",
       " ('25-30',\n",
       "  0       7730337.0\n",
       "  1       6796117.0\n",
       "  7       2165160.0\n",
       "  11      6912869.0\n",
       "  12      3425510.0\n",
       "            ...    \n",
       "  442     4775000.0\n",
       "  448    15409570.0\n",
       "  451      981348.0\n",
       "  453     2433333.0\n",
       "  456      947276.0\n",
       "  Name: Salary, Length: 172, dtype: float64),\n",
       " ('31-35',\n",
       "  19      6300000.0\n",
       "  31      1635476.0\n",
       "  33     22875000.0\n",
       "  52      6500000.0\n",
       "  78     13800000.0\n",
       "  83     11710456.0\n",
       "  100    21468695.0\n",
       "  103     7085000.0\n",
       "  106     3000000.0\n",
       "  120     5219169.0\n",
       "  131      947276.0\n",
       "  133     5500000.0\n",
       "  152     2250000.0\n",
       "  154     4500000.0\n",
       "  162    13400000.0\n",
       "  167     8193029.0\n",
       "  170      947276.0\n",
       "  172      947276.0\n",
       "  173     1276000.0\n",
       "  180     2100000.0\n",
       "  181     2500000.0\n",
       "  195     3000000.0\n",
       "  221      295327.0\n",
       "  228     4290000.0\n",
       "  230     3950313.0\n",
       "  231     4053446.0\n",
       "  232     2085671.0\n",
       "  240      947276.0\n",
       "  241     5378974.0\n",
       "  258     5158539.0\n",
       "  271     9638555.0\n",
       "  303      200600.0\n",
       "  308     1499187.0\n",
       "  311     2854940.0\n",
       "  313     1000000.0\n",
       "  314     5746479.0\n",
       "  315    18671659.0\n",
       "  339    22192730.0\n",
       "  340    10151612.0\n",
       "  344      261894.0\n",
       "  349    20000000.0\n",
       "  367     5000000.0\n",
       "  368     4000000.0\n",
       "  372     3300000.0\n",
       "  394     4345000.0\n",
       "  413     3750000.0\n",
       "  415     3135000.0\n",
       "  434     5016000.0\n",
       "  Name: Salary, dtype: float64),\n",
       " ('36-40',\n",
       "  93     5675000.0\n",
       "  101    3376000.0\n",
       "  119     947276.0\n",
       "  139    1449187.0\n",
       "  183    2170465.0\n",
       "  256     947276.0\n",
       "  259    5000000.0\n",
       "  260    3542500.0\n",
       "  261    4088019.0\n",
       "  296     947276.0\n",
       "  343    2854940.0\n",
       "  392     947276.0\n",
       "  406     947276.0\n",
       "  420     222888.0\n",
       "  Name: Salary, dtype: float64)]"
      ]
     },
     "execution_count": 24,
     "metadata": {},
     "output_type": "execute_result"
    }
   ],
   "source": [
    "Salary_list"
   ]
  },
  {
   "cell_type": "code",
   "execution_count": null,
   "id": "47afcc1c",
   "metadata": {},
   "outputs": [],
   "source": []
  }
 ],
 "metadata": {
  "kernelspec": {
   "display_name": "Python 3 (ipykernel)",
   "language": "python",
   "name": "python3"
  },
  "language_info": {
   "codemirror_mode": {
    "name": "ipython",
    "version": 3
   },
   "file_extension": ".py",
   "mimetype": "text/x-python",
   "name": "python",
   "nbconvert_exporter": "python",
   "pygments_lexer": "ipython3",
   "version": "3.8.10"
  }
 },
 "nbformat": 4,
 "nbformat_minor": 5
}
